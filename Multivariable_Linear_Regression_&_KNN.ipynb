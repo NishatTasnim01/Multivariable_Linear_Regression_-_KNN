{
 "cells": [
  {
   "cell_type": "code",
   "execution_count": 1,
   "id": "f8ef8688",
   "metadata": {},
   "outputs": [],
   "source": [
    "#Assignment 5"
   ]
  },
  {
   "cell_type": "code",
   "execution_count": 2,
   "id": "bb98d0b2",
   "metadata": {},
   "outputs": [],
   "source": [
    "import pandas as pd\n",
    "import numpy as np\n",
    "import matplotlib.pyplot as plt\n",
    "import seaborn as sns\n",
    "import sklearn\n",
    "from sklearn.metrics import accuracy_score, mean_absolute_error, mean_squared_error, r2_score\n",
    "\n",
    "import warnings\n",
    "warnings.filterwarnings('ignore')"
   ]
  },
  {
   "cell_type": "code",
   "execution_count": 3,
   "id": "a0993a44",
   "metadata": {},
   "outputs": [],
   "source": [
    "df = pd.read_excel('insurance (2).xlsx')"
   ]
  },
  {
   "cell_type": "code",
   "execution_count": 4,
   "id": "ceaccee2",
   "metadata": {},
   "outputs": [
    {
     "data": {
      "text/html": [
       "<div>\n",
       "<style scoped>\n",
       "    .dataframe tbody tr th:only-of-type {\n",
       "        vertical-align: middle;\n",
       "    }\n",
       "\n",
       "    .dataframe tbody tr th {\n",
       "        vertical-align: top;\n",
       "    }\n",
       "\n",
       "    .dataframe thead th {\n",
       "        text-align: right;\n",
       "    }\n",
       "</style>\n",
       "<table border=\"1\" class=\"dataframe\">\n",
       "  <thead>\n",
       "    <tr style=\"text-align: right;\">\n",
       "      <th></th>\n",
       "      <th>age</th>\n",
       "      <th>sex</th>\n",
       "      <th>bmi</th>\n",
       "      <th>children</th>\n",
       "      <th>smoker</th>\n",
       "      <th>region</th>\n",
       "      <th>charges</th>\n",
       "    </tr>\n",
       "  </thead>\n",
       "  <tbody>\n",
       "    <tr>\n",
       "      <th>0</th>\n",
       "      <td>19</td>\n",
       "      <td>female</td>\n",
       "      <td>27.900</td>\n",
       "      <td>0</td>\n",
       "      <td>yes</td>\n",
       "      <td>southwest</td>\n",
       "      <td>16884.92400</td>\n",
       "    </tr>\n",
       "    <tr>\n",
       "      <th>1</th>\n",
       "      <td>18</td>\n",
       "      <td>male</td>\n",
       "      <td>33.770</td>\n",
       "      <td>1</td>\n",
       "      <td>no</td>\n",
       "      <td>southeast</td>\n",
       "      <td>1725.55230</td>\n",
       "    </tr>\n",
       "    <tr>\n",
       "      <th>2</th>\n",
       "      <td>28</td>\n",
       "      <td>male</td>\n",
       "      <td>33.000</td>\n",
       "      <td>3</td>\n",
       "      <td>no</td>\n",
       "      <td>southeast</td>\n",
       "      <td>4449.46200</td>\n",
       "    </tr>\n",
       "    <tr>\n",
       "      <th>3</th>\n",
       "      <td>33</td>\n",
       "      <td>male</td>\n",
       "      <td>22.705</td>\n",
       "      <td>0</td>\n",
       "      <td>no</td>\n",
       "      <td>northwest</td>\n",
       "      <td>21984.47061</td>\n",
       "    </tr>\n",
       "    <tr>\n",
       "      <th>4</th>\n",
       "      <td>32</td>\n",
       "      <td>male</td>\n",
       "      <td>28.880</td>\n",
       "      <td>0</td>\n",
       "      <td>no</td>\n",
       "      <td>northwest</td>\n",
       "      <td>3866.85520</td>\n",
       "    </tr>\n",
       "  </tbody>\n",
       "</table>\n",
       "</div>"
      ],
      "text/plain": [
       "   age     sex     bmi  children smoker     region      charges\n",
       "0   19  female  27.900         0    yes  southwest  16884.92400\n",
       "1   18    male  33.770         1     no  southeast   1725.55230\n",
       "2   28    male  33.000         3     no  southeast   4449.46200\n",
       "3   33    male  22.705         0     no  northwest  21984.47061\n",
       "4   32    male  28.880         0     no  northwest   3866.85520"
      ]
     },
     "execution_count": 4,
     "metadata": {},
     "output_type": "execute_result"
    }
   ],
   "source": [
    "df.head()"
   ]
  },
  {
   "cell_type": "code",
   "execution_count": 5,
   "id": "296e7489",
   "metadata": {},
   "outputs": [
    {
     "name": "stdout",
     "output_type": "stream",
     "text": [
      "<class 'pandas.core.frame.DataFrame'>\n",
      "RangeIndex: 1338 entries, 0 to 1337\n",
      "Data columns (total 7 columns):\n",
      " #   Column    Non-Null Count  Dtype  \n",
      "---  ------    --------------  -----  \n",
      " 0   age       1338 non-null   int64  \n",
      " 1   sex       1338 non-null   object \n",
      " 2   bmi       1338 non-null   float64\n",
      " 3   children  1338 non-null   int64  \n",
      " 4   smoker    1338 non-null   object \n",
      " 5   region    1338 non-null   object \n",
      " 6   charges   1338 non-null   float64\n",
      "dtypes: float64(2), int64(2), object(3)\n",
      "memory usage: 73.3+ KB\n"
     ]
    }
   ],
   "source": [
    "df.info()"
   ]
  },
  {
   "cell_type": "code",
   "execution_count": 6,
   "id": "bbf80c90",
   "metadata": {},
   "outputs": [
    {
     "data": {
      "text/plain": [
       "age         0\n",
       "sex         0\n",
       "bmi         0\n",
       "children    0\n",
       "smoker      0\n",
       "region      0\n",
       "charges     0\n",
       "dtype: int64"
      ]
     },
     "execution_count": 6,
     "metadata": {},
     "output_type": "execute_result"
    }
   ],
   "source": [
    "df.isna().sum()"
   ]
  },
  {
   "cell_type": "code",
   "execution_count": 7,
   "id": "a193daa2",
   "metadata": {},
   "outputs": [
    {
     "data": {
      "text/plain": [
       "age           47\n",
       "sex            2\n",
       "bmi          548\n",
       "children       6\n",
       "smoker         2\n",
       "region         4\n",
       "charges     1337\n",
       "dtype: int64"
      ]
     },
     "execution_count": 7,
     "metadata": {},
     "output_type": "execute_result"
    }
   ],
   "source": [
    "df.nunique()"
   ]
  },
  {
   "cell_type": "markdown",
   "id": "77c36b2f",
   "metadata": {},
   "source": [
    "Keep Copy of Data Frame :"
   ]
  },
  {
   "cell_type": "code",
   "execution_count": 8,
   "id": "69facea2",
   "metadata": {},
   "outputs": [],
   "source": [
    "df1 = df.copy()\n",
    "df2 = df.copy()"
   ]
  },
  {
   "cell_type": "markdown",
   "id": "fa2c6226",
   "metadata": {},
   "source": [
    "# One Hot Encoding"
   ]
  },
  {
   "cell_type": "code",
   "execution_count": 9,
   "id": "c0cef976",
   "metadata": {},
   "outputs": [
    {
     "data": {
      "text/html": [
       "<div>\n",
       "<style scoped>\n",
       "    .dataframe tbody tr th:only-of-type {\n",
       "        vertical-align: middle;\n",
       "    }\n",
       "\n",
       "    .dataframe tbody tr th {\n",
       "        vertical-align: top;\n",
       "    }\n",
       "\n",
       "    .dataframe thead th {\n",
       "        text-align: right;\n",
       "    }\n",
       "</style>\n",
       "<table border=\"1\" class=\"dataframe\">\n",
       "  <thead>\n",
       "    <tr style=\"text-align: right;\">\n",
       "      <th></th>\n",
       "      <th>age</th>\n",
       "      <th>sex</th>\n",
       "      <th>bmi</th>\n",
       "      <th>children</th>\n",
       "      <th>smoker</th>\n",
       "      <th>region</th>\n",
       "      <th>charges</th>\n",
       "    </tr>\n",
       "  </thead>\n",
       "  <tbody>\n",
       "    <tr>\n",
       "      <th>0</th>\n",
       "      <td>19</td>\n",
       "      <td>female</td>\n",
       "      <td>27.900</td>\n",
       "      <td>0</td>\n",
       "      <td>yes</td>\n",
       "      <td>southwest</td>\n",
       "      <td>16884.92400</td>\n",
       "    </tr>\n",
       "    <tr>\n",
       "      <th>1</th>\n",
       "      <td>18</td>\n",
       "      <td>male</td>\n",
       "      <td>33.770</td>\n",
       "      <td>1</td>\n",
       "      <td>no</td>\n",
       "      <td>southeast</td>\n",
       "      <td>1725.55230</td>\n",
       "    </tr>\n",
       "    <tr>\n",
       "      <th>2</th>\n",
       "      <td>28</td>\n",
       "      <td>male</td>\n",
       "      <td>33.000</td>\n",
       "      <td>3</td>\n",
       "      <td>no</td>\n",
       "      <td>southeast</td>\n",
       "      <td>4449.46200</td>\n",
       "    </tr>\n",
       "    <tr>\n",
       "      <th>3</th>\n",
       "      <td>33</td>\n",
       "      <td>male</td>\n",
       "      <td>22.705</td>\n",
       "      <td>0</td>\n",
       "      <td>no</td>\n",
       "      <td>northwest</td>\n",
       "      <td>21984.47061</td>\n",
       "    </tr>\n",
       "    <tr>\n",
       "      <th>4</th>\n",
       "      <td>32</td>\n",
       "      <td>male</td>\n",
       "      <td>28.880</td>\n",
       "      <td>0</td>\n",
       "      <td>no</td>\n",
       "      <td>northwest</td>\n",
       "      <td>3866.85520</td>\n",
       "    </tr>\n",
       "  </tbody>\n",
       "</table>\n",
       "</div>"
      ],
      "text/plain": [
       "   age     sex     bmi  children smoker     region      charges\n",
       "0   19  female  27.900         0    yes  southwest  16884.92400\n",
       "1   18    male  33.770         1     no  southeast   1725.55230\n",
       "2   28    male  33.000         3     no  southeast   4449.46200\n",
       "3   33    male  22.705         0     no  northwest  21984.47061\n",
       "4   32    male  28.880         0     no  northwest   3866.85520"
      ]
     },
     "execution_count": 9,
     "metadata": {},
     "output_type": "execute_result"
    }
   ],
   "source": [
    "df1.head()"
   ]
  },
  {
   "cell_type": "code",
   "execution_count": 10,
   "id": "c81205a0",
   "metadata": {},
   "outputs": [],
   "source": [
    "df1 = pd.get_dummies(df1,drop_first='True', dtype=int)"
   ]
  },
  {
   "cell_type": "code",
   "execution_count": 11,
   "id": "d89125ce",
   "metadata": {},
   "outputs": [
    {
     "data": {
      "text/html": [
       "<div>\n",
       "<style scoped>\n",
       "    .dataframe tbody tr th:only-of-type {\n",
       "        vertical-align: middle;\n",
       "    }\n",
       "\n",
       "    .dataframe tbody tr th {\n",
       "        vertical-align: top;\n",
       "    }\n",
       "\n",
       "    .dataframe thead th {\n",
       "        text-align: right;\n",
       "    }\n",
       "</style>\n",
       "<table border=\"1\" class=\"dataframe\">\n",
       "  <thead>\n",
       "    <tr style=\"text-align: right;\">\n",
       "      <th></th>\n",
       "      <th>age</th>\n",
       "      <th>bmi</th>\n",
       "      <th>children</th>\n",
       "      <th>charges</th>\n",
       "      <th>sex_male</th>\n",
       "      <th>smoker_yes</th>\n",
       "      <th>region_northwest</th>\n",
       "      <th>region_southeast</th>\n",
       "      <th>region_southwest</th>\n",
       "    </tr>\n",
       "  </thead>\n",
       "  <tbody>\n",
       "    <tr>\n",
       "      <th>0</th>\n",
       "      <td>19</td>\n",
       "      <td>27.900</td>\n",
       "      <td>0</td>\n",
       "      <td>16884.92400</td>\n",
       "      <td>0</td>\n",
       "      <td>1</td>\n",
       "      <td>0</td>\n",
       "      <td>0</td>\n",
       "      <td>1</td>\n",
       "    </tr>\n",
       "    <tr>\n",
       "      <th>1</th>\n",
       "      <td>18</td>\n",
       "      <td>33.770</td>\n",
       "      <td>1</td>\n",
       "      <td>1725.55230</td>\n",
       "      <td>1</td>\n",
       "      <td>0</td>\n",
       "      <td>0</td>\n",
       "      <td>1</td>\n",
       "      <td>0</td>\n",
       "    </tr>\n",
       "    <tr>\n",
       "      <th>2</th>\n",
       "      <td>28</td>\n",
       "      <td>33.000</td>\n",
       "      <td>3</td>\n",
       "      <td>4449.46200</td>\n",
       "      <td>1</td>\n",
       "      <td>0</td>\n",
       "      <td>0</td>\n",
       "      <td>1</td>\n",
       "      <td>0</td>\n",
       "    </tr>\n",
       "    <tr>\n",
       "      <th>3</th>\n",
       "      <td>33</td>\n",
       "      <td>22.705</td>\n",
       "      <td>0</td>\n",
       "      <td>21984.47061</td>\n",
       "      <td>1</td>\n",
       "      <td>0</td>\n",
       "      <td>1</td>\n",
       "      <td>0</td>\n",
       "      <td>0</td>\n",
       "    </tr>\n",
       "    <tr>\n",
       "      <th>4</th>\n",
       "      <td>32</td>\n",
       "      <td>28.880</td>\n",
       "      <td>0</td>\n",
       "      <td>3866.85520</td>\n",
       "      <td>1</td>\n",
       "      <td>0</td>\n",
       "      <td>1</td>\n",
       "      <td>0</td>\n",
       "      <td>0</td>\n",
       "    </tr>\n",
       "  </tbody>\n",
       "</table>\n",
       "</div>"
      ],
      "text/plain": [
       "   age     bmi  children      charges  sex_male  smoker_yes  region_northwest  \\\n",
       "0   19  27.900         0  16884.92400         0           1                 0   \n",
       "1   18  33.770         1   1725.55230         1           0                 0   \n",
       "2   28  33.000         3   4449.46200         1           0                 0   \n",
       "3   33  22.705         0  21984.47061         1           0                 1   \n",
       "4   32  28.880         0   3866.85520         1           0                 1   \n",
       "\n",
       "   region_southeast  region_southwest  \n",
       "0                 0                 1  \n",
       "1                 1                 0  \n",
       "2                 1                 0  \n",
       "3                 0                 0  \n",
       "4                 0                 0  "
      ]
     },
     "execution_count": 11,
     "metadata": {},
     "output_type": "execute_result"
    }
   ],
   "source": [
    "df1.head()"
   ]
  },
  {
   "cell_type": "code",
   "execution_count": 12,
   "id": "978d8e2e",
   "metadata": {},
   "outputs": [
    {
     "data": {
      "text/html": [
       "<div>\n",
       "<style scoped>\n",
       "    .dataframe tbody tr th:only-of-type {\n",
       "        vertical-align: middle;\n",
       "    }\n",
       "\n",
       "    .dataframe tbody tr th {\n",
       "        vertical-align: top;\n",
       "    }\n",
       "\n",
       "    .dataframe thead th {\n",
       "        text-align: right;\n",
       "    }\n",
       "</style>\n",
       "<table border=\"1\" class=\"dataframe\">\n",
       "  <thead>\n",
       "    <tr style=\"text-align: right;\">\n",
       "      <th></th>\n",
       "      <th>age</th>\n",
       "      <th>bmi</th>\n",
       "      <th>children</th>\n",
       "      <th>charges</th>\n",
       "      <th>sex_male</th>\n",
       "      <th>smoker_yes</th>\n",
       "      <th>region_northwest</th>\n",
       "      <th>region_southeast</th>\n",
       "      <th>region_southwest</th>\n",
       "    </tr>\n",
       "  </thead>\n",
       "  <tbody>\n",
       "    <tr>\n",
       "      <th>count</th>\n",
       "      <td>1338.000000</td>\n",
       "      <td>1338.000000</td>\n",
       "      <td>1338.000000</td>\n",
       "      <td>1338.000000</td>\n",
       "      <td>1338.000000</td>\n",
       "      <td>1338.000000</td>\n",
       "      <td>1338.000000</td>\n",
       "      <td>1338.000000</td>\n",
       "      <td>1338.000000</td>\n",
       "    </tr>\n",
       "    <tr>\n",
       "      <th>mean</th>\n",
       "      <td>39.207025</td>\n",
       "      <td>30.663397</td>\n",
       "      <td>1.094918</td>\n",
       "      <td>13270.422265</td>\n",
       "      <td>0.505232</td>\n",
       "      <td>0.204783</td>\n",
       "      <td>0.242900</td>\n",
       "      <td>0.272048</td>\n",
       "      <td>0.242900</td>\n",
       "    </tr>\n",
       "    <tr>\n",
       "      <th>std</th>\n",
       "      <td>14.049960</td>\n",
       "      <td>6.098187</td>\n",
       "      <td>1.205493</td>\n",
       "      <td>12110.011237</td>\n",
       "      <td>0.500160</td>\n",
       "      <td>0.403694</td>\n",
       "      <td>0.428995</td>\n",
       "      <td>0.445181</td>\n",
       "      <td>0.428995</td>\n",
       "    </tr>\n",
       "    <tr>\n",
       "      <th>min</th>\n",
       "      <td>18.000000</td>\n",
       "      <td>15.960000</td>\n",
       "      <td>0.000000</td>\n",
       "      <td>1121.873900</td>\n",
       "      <td>0.000000</td>\n",
       "      <td>0.000000</td>\n",
       "      <td>0.000000</td>\n",
       "      <td>0.000000</td>\n",
       "      <td>0.000000</td>\n",
       "    </tr>\n",
       "    <tr>\n",
       "      <th>25%</th>\n",
       "      <td>27.000000</td>\n",
       "      <td>26.296250</td>\n",
       "      <td>0.000000</td>\n",
       "      <td>4740.287150</td>\n",
       "      <td>0.000000</td>\n",
       "      <td>0.000000</td>\n",
       "      <td>0.000000</td>\n",
       "      <td>0.000000</td>\n",
       "      <td>0.000000</td>\n",
       "    </tr>\n",
       "    <tr>\n",
       "      <th>50%</th>\n",
       "      <td>39.000000</td>\n",
       "      <td>30.400000</td>\n",
       "      <td>1.000000</td>\n",
       "      <td>9382.033000</td>\n",
       "      <td>1.000000</td>\n",
       "      <td>0.000000</td>\n",
       "      <td>0.000000</td>\n",
       "      <td>0.000000</td>\n",
       "      <td>0.000000</td>\n",
       "    </tr>\n",
       "    <tr>\n",
       "      <th>75%</th>\n",
       "      <td>51.000000</td>\n",
       "      <td>34.693750</td>\n",
       "      <td>2.000000</td>\n",
       "      <td>16639.912515</td>\n",
       "      <td>1.000000</td>\n",
       "      <td>0.000000</td>\n",
       "      <td>0.000000</td>\n",
       "      <td>1.000000</td>\n",
       "      <td>0.000000</td>\n",
       "    </tr>\n",
       "    <tr>\n",
       "      <th>max</th>\n",
       "      <td>64.000000</td>\n",
       "      <td>53.130000</td>\n",
       "      <td>5.000000</td>\n",
       "      <td>63770.428010</td>\n",
       "      <td>1.000000</td>\n",
       "      <td>1.000000</td>\n",
       "      <td>1.000000</td>\n",
       "      <td>1.000000</td>\n",
       "      <td>1.000000</td>\n",
       "    </tr>\n",
       "  </tbody>\n",
       "</table>\n",
       "</div>"
      ],
      "text/plain": [
       "               age          bmi     children       charges     sex_male  \\\n",
       "count  1338.000000  1338.000000  1338.000000   1338.000000  1338.000000   \n",
       "mean     39.207025    30.663397     1.094918  13270.422265     0.505232   \n",
       "std      14.049960     6.098187     1.205493  12110.011237     0.500160   \n",
       "min      18.000000    15.960000     0.000000   1121.873900     0.000000   \n",
       "25%      27.000000    26.296250     0.000000   4740.287150     0.000000   \n",
       "50%      39.000000    30.400000     1.000000   9382.033000     1.000000   \n",
       "75%      51.000000    34.693750     2.000000  16639.912515     1.000000   \n",
       "max      64.000000    53.130000     5.000000  63770.428010     1.000000   \n",
       "\n",
       "        smoker_yes  region_northwest  region_southeast  region_southwest  \n",
       "count  1338.000000       1338.000000       1338.000000       1338.000000  \n",
       "mean      0.204783          0.242900          0.272048          0.242900  \n",
       "std       0.403694          0.428995          0.445181          0.428995  \n",
       "min       0.000000          0.000000          0.000000          0.000000  \n",
       "25%       0.000000          0.000000          0.000000          0.000000  \n",
       "50%       0.000000          0.000000          0.000000          0.000000  \n",
       "75%       0.000000          0.000000          1.000000          0.000000  \n",
       "max       1.000000          1.000000          1.000000          1.000000  "
      ]
     },
     "execution_count": 12,
     "metadata": {},
     "output_type": "execute_result"
    }
   ],
   "source": [
    "df1.describe()"
   ]
  },
  {
   "cell_type": "code",
   "execution_count": 13,
   "id": "c7f6ad54",
   "metadata": {},
   "outputs": [
    {
     "data": {
      "text/html": [
       "<div>\n",
       "<style scoped>\n",
       "    .dataframe tbody tr th:only-of-type {\n",
       "        vertical-align: middle;\n",
       "    }\n",
       "\n",
       "    .dataframe tbody tr th {\n",
       "        vertical-align: top;\n",
       "    }\n",
       "\n",
       "    .dataframe thead th {\n",
       "        text-align: right;\n",
       "    }\n",
       "</style>\n",
       "<table border=\"1\" class=\"dataframe\">\n",
       "  <thead>\n",
       "    <tr style=\"text-align: right;\">\n",
       "      <th></th>\n",
       "      <th>count</th>\n",
       "      <th>mean</th>\n",
       "      <th>std</th>\n",
       "      <th>min</th>\n",
       "      <th>25%</th>\n",
       "      <th>50%</th>\n",
       "      <th>75%</th>\n",
       "      <th>max</th>\n",
       "    </tr>\n",
       "  </thead>\n",
       "  <tbody>\n",
       "    <tr>\n",
       "      <th>age</th>\n",
       "      <td>1338.0</td>\n",
       "      <td>39.207025</td>\n",
       "      <td>14.049960</td>\n",
       "      <td>18.0000</td>\n",
       "      <td>27.00000</td>\n",
       "      <td>39.000</td>\n",
       "      <td>51.000000</td>\n",
       "      <td>64.00000</td>\n",
       "    </tr>\n",
       "    <tr>\n",
       "      <th>bmi</th>\n",
       "      <td>1338.0</td>\n",
       "      <td>30.663397</td>\n",
       "      <td>6.098187</td>\n",
       "      <td>15.9600</td>\n",
       "      <td>26.29625</td>\n",
       "      <td>30.400</td>\n",
       "      <td>34.693750</td>\n",
       "      <td>53.13000</td>\n",
       "    </tr>\n",
       "    <tr>\n",
       "      <th>children</th>\n",
       "      <td>1338.0</td>\n",
       "      <td>1.094918</td>\n",
       "      <td>1.205493</td>\n",
       "      <td>0.0000</td>\n",
       "      <td>0.00000</td>\n",
       "      <td>1.000</td>\n",
       "      <td>2.000000</td>\n",
       "      <td>5.00000</td>\n",
       "    </tr>\n",
       "    <tr>\n",
       "      <th>charges</th>\n",
       "      <td>1338.0</td>\n",
       "      <td>13270.422265</td>\n",
       "      <td>12110.011237</td>\n",
       "      <td>1121.8739</td>\n",
       "      <td>4740.28715</td>\n",
       "      <td>9382.033</td>\n",
       "      <td>16639.912515</td>\n",
       "      <td>63770.42801</td>\n",
       "    </tr>\n",
       "    <tr>\n",
       "      <th>sex_male</th>\n",
       "      <td>1338.0</td>\n",
       "      <td>0.505232</td>\n",
       "      <td>0.500160</td>\n",
       "      <td>0.0000</td>\n",
       "      <td>0.00000</td>\n",
       "      <td>1.000</td>\n",
       "      <td>1.000000</td>\n",
       "      <td>1.00000</td>\n",
       "    </tr>\n",
       "    <tr>\n",
       "      <th>smoker_yes</th>\n",
       "      <td>1338.0</td>\n",
       "      <td>0.204783</td>\n",
       "      <td>0.403694</td>\n",
       "      <td>0.0000</td>\n",
       "      <td>0.00000</td>\n",
       "      <td>0.000</td>\n",
       "      <td>0.000000</td>\n",
       "      <td>1.00000</td>\n",
       "    </tr>\n",
       "    <tr>\n",
       "      <th>region_northwest</th>\n",
       "      <td>1338.0</td>\n",
       "      <td>0.242900</td>\n",
       "      <td>0.428995</td>\n",
       "      <td>0.0000</td>\n",
       "      <td>0.00000</td>\n",
       "      <td>0.000</td>\n",
       "      <td>0.000000</td>\n",
       "      <td>1.00000</td>\n",
       "    </tr>\n",
       "    <tr>\n",
       "      <th>region_southeast</th>\n",
       "      <td>1338.0</td>\n",
       "      <td>0.272048</td>\n",
       "      <td>0.445181</td>\n",
       "      <td>0.0000</td>\n",
       "      <td>0.00000</td>\n",
       "      <td>0.000</td>\n",
       "      <td>1.000000</td>\n",
       "      <td>1.00000</td>\n",
       "    </tr>\n",
       "    <tr>\n",
       "      <th>region_southwest</th>\n",
       "      <td>1338.0</td>\n",
       "      <td>0.242900</td>\n",
       "      <td>0.428995</td>\n",
       "      <td>0.0000</td>\n",
       "      <td>0.00000</td>\n",
       "      <td>0.000</td>\n",
       "      <td>0.000000</td>\n",
       "      <td>1.00000</td>\n",
       "    </tr>\n",
       "  </tbody>\n",
       "</table>\n",
       "</div>"
      ],
      "text/plain": [
       "                   count          mean           std        min         25%  \\\n",
       "age               1338.0     39.207025     14.049960    18.0000    27.00000   \n",
       "bmi               1338.0     30.663397      6.098187    15.9600    26.29625   \n",
       "children          1338.0      1.094918      1.205493     0.0000     0.00000   \n",
       "charges           1338.0  13270.422265  12110.011237  1121.8739  4740.28715   \n",
       "sex_male          1338.0      0.505232      0.500160     0.0000     0.00000   \n",
       "smoker_yes        1338.0      0.204783      0.403694     0.0000     0.00000   \n",
       "region_northwest  1338.0      0.242900      0.428995     0.0000     0.00000   \n",
       "region_southeast  1338.0      0.272048      0.445181     0.0000     0.00000   \n",
       "region_southwest  1338.0      0.242900      0.428995     0.0000     0.00000   \n",
       "\n",
       "                       50%           75%          max  \n",
       "age                 39.000     51.000000     64.00000  \n",
       "bmi                 30.400     34.693750     53.13000  \n",
       "children             1.000      2.000000      5.00000  \n",
       "charges           9382.033  16639.912515  63770.42801  \n",
       "sex_male             1.000      1.000000      1.00000  \n",
       "smoker_yes           0.000      0.000000      1.00000  \n",
       "region_northwest     0.000      0.000000      1.00000  \n",
       "region_southeast     0.000      1.000000      1.00000  \n",
       "region_southwest     0.000      0.000000      1.00000  "
      ]
     },
     "execution_count": 13,
     "metadata": {},
     "output_type": "execute_result"
    }
   ],
   "source": [
    "df1.describe().T"
   ]
  },
  {
   "cell_type": "markdown",
   "id": "dd8ef3ee",
   "metadata": {},
   "source": [
    "Separate X & Y, Train & Test"
   ]
  },
  {
   "cell_type": "code",
   "execution_count": 14,
   "id": "33b876d6",
   "metadata": {},
   "outputs": [],
   "source": [
    "x1 = df1.drop('charges',axis=1)\n",
    "y1 = df1['charges']"
   ]
  },
  {
   "cell_type": "code",
   "execution_count": 15,
   "id": "16b70cb3",
   "metadata": {},
   "outputs": [
    {
     "data": {
      "text/html": [
       "<div>\n",
       "<style scoped>\n",
       "    .dataframe tbody tr th:only-of-type {\n",
       "        vertical-align: middle;\n",
       "    }\n",
       "\n",
       "    .dataframe tbody tr th {\n",
       "        vertical-align: top;\n",
       "    }\n",
       "\n",
       "    .dataframe thead th {\n",
       "        text-align: right;\n",
       "    }\n",
       "</style>\n",
       "<table border=\"1\" class=\"dataframe\">\n",
       "  <thead>\n",
       "    <tr style=\"text-align: right;\">\n",
       "      <th></th>\n",
       "      <th>age</th>\n",
       "      <th>bmi</th>\n",
       "      <th>children</th>\n",
       "      <th>sex_male</th>\n",
       "      <th>smoker_yes</th>\n",
       "      <th>region_northwest</th>\n",
       "      <th>region_southeast</th>\n",
       "      <th>region_southwest</th>\n",
       "    </tr>\n",
       "  </thead>\n",
       "  <tbody>\n",
       "    <tr>\n",
       "      <th>0</th>\n",
       "      <td>19</td>\n",
       "      <td>27.900</td>\n",
       "      <td>0</td>\n",
       "      <td>0</td>\n",
       "      <td>1</td>\n",
       "      <td>0</td>\n",
       "      <td>0</td>\n",
       "      <td>1</td>\n",
       "    </tr>\n",
       "    <tr>\n",
       "      <th>1</th>\n",
       "      <td>18</td>\n",
       "      <td>33.770</td>\n",
       "      <td>1</td>\n",
       "      <td>1</td>\n",
       "      <td>0</td>\n",
       "      <td>0</td>\n",
       "      <td>1</td>\n",
       "      <td>0</td>\n",
       "    </tr>\n",
       "    <tr>\n",
       "      <th>2</th>\n",
       "      <td>28</td>\n",
       "      <td>33.000</td>\n",
       "      <td>3</td>\n",
       "      <td>1</td>\n",
       "      <td>0</td>\n",
       "      <td>0</td>\n",
       "      <td>1</td>\n",
       "      <td>0</td>\n",
       "    </tr>\n",
       "    <tr>\n",
       "      <th>3</th>\n",
       "      <td>33</td>\n",
       "      <td>22.705</td>\n",
       "      <td>0</td>\n",
       "      <td>1</td>\n",
       "      <td>0</td>\n",
       "      <td>1</td>\n",
       "      <td>0</td>\n",
       "      <td>0</td>\n",
       "    </tr>\n",
       "    <tr>\n",
       "      <th>4</th>\n",
       "      <td>32</td>\n",
       "      <td>28.880</td>\n",
       "      <td>0</td>\n",
       "      <td>1</td>\n",
       "      <td>0</td>\n",
       "      <td>1</td>\n",
       "      <td>0</td>\n",
       "      <td>0</td>\n",
       "    </tr>\n",
       "  </tbody>\n",
       "</table>\n",
       "</div>"
      ],
      "text/plain": [
       "   age     bmi  children  sex_male  smoker_yes  region_northwest  \\\n",
       "0   19  27.900         0         0           1                 0   \n",
       "1   18  33.770         1         1           0                 0   \n",
       "2   28  33.000         3         1           0                 0   \n",
       "3   33  22.705         0         1           0                 1   \n",
       "4   32  28.880         0         1           0                 1   \n",
       "\n",
       "   region_southeast  region_southwest  \n",
       "0                 0                 1  \n",
       "1                 1                 0  \n",
       "2                 1                 0  \n",
       "3                 0                 0  \n",
       "4                 0                 0  "
      ]
     },
     "execution_count": 15,
     "metadata": {},
     "output_type": "execute_result"
    }
   ],
   "source": [
    "x1.head()"
   ]
  },
  {
   "cell_type": "code",
   "execution_count": 16,
   "id": "b3905a38",
   "metadata": {},
   "outputs": [
    {
     "data": {
      "text/plain": [
       "0    16884.92400\n",
       "1     1725.55230\n",
       "2     4449.46200\n",
       "3    21984.47061\n",
       "4     3866.85520\n",
       "Name: charges, dtype: float64"
      ]
     },
     "execution_count": 16,
     "metadata": {},
     "output_type": "execute_result"
    }
   ],
   "source": [
    "y1.head()"
   ]
  },
  {
   "cell_type": "code",
   "execution_count": 17,
   "id": "52eb4325",
   "metadata": {},
   "outputs": [],
   "source": [
    "from sklearn.model_selection import train_test_split as tts\n",
    "x_train,x_test,y_train,y_test = tts(x1,y1,test_size=0.3,random_state=42)"
   ]
  },
  {
   "cell_type": "code",
   "execution_count": 18,
   "id": "001def90",
   "metadata": {},
   "outputs": [
    {
     "data": {
      "text/html": [
       "<div>\n",
       "<style scoped>\n",
       "    .dataframe tbody tr th:only-of-type {\n",
       "        vertical-align: middle;\n",
       "    }\n",
       "\n",
       "    .dataframe tbody tr th {\n",
       "        vertical-align: top;\n",
       "    }\n",
       "\n",
       "    .dataframe thead th {\n",
       "        text-align: right;\n",
       "    }\n",
       "</style>\n",
       "<table border=\"1\" class=\"dataframe\">\n",
       "  <thead>\n",
       "    <tr style=\"text-align: right;\">\n",
       "      <th></th>\n",
       "      <th>age</th>\n",
       "      <th>bmi</th>\n",
       "      <th>children</th>\n",
       "      <th>sex_male</th>\n",
       "      <th>smoker_yes</th>\n",
       "      <th>region_northwest</th>\n",
       "      <th>region_southeast</th>\n",
       "      <th>region_southwest</th>\n",
       "    </tr>\n",
       "  </thead>\n",
       "  <tbody>\n",
       "    <tr>\n",
       "      <th>332</th>\n",
       "      <td>61</td>\n",
       "      <td>31.160</td>\n",
       "      <td>0</td>\n",
       "      <td>0</td>\n",
       "      <td>0</td>\n",
       "      <td>1</td>\n",
       "      <td>0</td>\n",
       "      <td>0</td>\n",
       "    </tr>\n",
       "    <tr>\n",
       "      <th>355</th>\n",
       "      <td>46</td>\n",
       "      <td>27.600</td>\n",
       "      <td>0</td>\n",
       "      <td>1</td>\n",
       "      <td>0</td>\n",
       "      <td>0</td>\n",
       "      <td>0</td>\n",
       "      <td>1</td>\n",
       "    </tr>\n",
       "    <tr>\n",
       "      <th>138</th>\n",
       "      <td>54</td>\n",
       "      <td>31.900</td>\n",
       "      <td>3</td>\n",
       "      <td>0</td>\n",
       "      <td>0</td>\n",
       "      <td>0</td>\n",
       "      <td>1</td>\n",
       "      <td>0</td>\n",
       "    </tr>\n",
       "    <tr>\n",
       "      <th>381</th>\n",
       "      <td>55</td>\n",
       "      <td>30.685</td>\n",
       "      <td>0</td>\n",
       "      <td>1</td>\n",
       "      <td>1</td>\n",
       "      <td>0</td>\n",
       "      <td>0</td>\n",
       "      <td>0</td>\n",
       "    </tr>\n",
       "    <tr>\n",
       "      <th>292</th>\n",
       "      <td>25</td>\n",
       "      <td>45.540</td>\n",
       "      <td>2</td>\n",
       "      <td>1</td>\n",
       "      <td>1</td>\n",
       "      <td>0</td>\n",
       "      <td>1</td>\n",
       "      <td>0</td>\n",
       "    </tr>\n",
       "  </tbody>\n",
       "</table>\n",
       "</div>"
      ],
      "text/plain": [
       "     age     bmi  children  sex_male  smoker_yes  region_northwest  \\\n",
       "332   61  31.160         0         0           0                 1   \n",
       "355   46  27.600         0         1           0                 0   \n",
       "138   54  31.900         3         0           0                 0   \n",
       "381   55  30.685         0         1           1                 0   \n",
       "292   25  45.540         2         1           1                 0   \n",
       "\n",
       "     region_southeast  region_southwest  \n",
       "332                 0                 0  \n",
       "355                 0                 1  \n",
       "138                 1                 0  \n",
       "381                 0                 0  \n",
       "292                 1                 0  "
      ]
     },
     "execution_count": 18,
     "metadata": {},
     "output_type": "execute_result"
    }
   ],
   "source": [
    "x_train.head()"
   ]
  },
  {
   "cell_type": "code",
   "execution_count": 19,
   "id": "cec04b0a",
   "metadata": {},
   "outputs": [
    {
     "data": {
      "text/plain": [
       "332    13429.03540\n",
       "355    24603.04837\n",
       "138    27322.73386\n",
       "381    42303.69215\n",
       "292    42112.23560\n",
       "Name: charges, dtype: float64"
      ]
     },
     "execution_count": 19,
     "metadata": {},
     "output_type": "execute_result"
    }
   ],
   "source": [
    "y_train.head()"
   ]
  },
  {
   "cell_type": "code",
   "execution_count": 20,
   "id": "8f320ac4",
   "metadata": {},
   "outputs": [
    {
     "data": {
      "text/html": [
       "<div>\n",
       "<style scoped>\n",
       "    .dataframe tbody tr th:only-of-type {\n",
       "        vertical-align: middle;\n",
       "    }\n",
       "\n",
       "    .dataframe tbody tr th {\n",
       "        vertical-align: top;\n",
       "    }\n",
       "\n",
       "    .dataframe thead th {\n",
       "        text-align: right;\n",
       "    }\n",
       "</style>\n",
       "<table border=\"1\" class=\"dataframe\">\n",
       "  <thead>\n",
       "    <tr style=\"text-align: right;\">\n",
       "      <th></th>\n",
       "      <th>age</th>\n",
       "      <th>bmi</th>\n",
       "      <th>children</th>\n",
       "      <th>sex_male</th>\n",
       "      <th>smoker_yes</th>\n",
       "      <th>region_northwest</th>\n",
       "      <th>region_southeast</th>\n",
       "      <th>region_southwest</th>\n",
       "    </tr>\n",
       "  </thead>\n",
       "  <tbody>\n",
       "    <tr>\n",
       "      <th>764</th>\n",
       "      <td>45</td>\n",
       "      <td>25.175</td>\n",
       "      <td>2</td>\n",
       "      <td>0</td>\n",
       "      <td>0</td>\n",
       "      <td>0</td>\n",
       "      <td>0</td>\n",
       "      <td>0</td>\n",
       "    </tr>\n",
       "    <tr>\n",
       "      <th>887</th>\n",
       "      <td>36</td>\n",
       "      <td>30.020</td>\n",
       "      <td>0</td>\n",
       "      <td>0</td>\n",
       "      <td>0</td>\n",
       "      <td>1</td>\n",
       "      <td>0</td>\n",
       "      <td>0</td>\n",
       "    </tr>\n",
       "    <tr>\n",
       "      <th>890</th>\n",
       "      <td>64</td>\n",
       "      <td>26.885</td>\n",
       "      <td>0</td>\n",
       "      <td>0</td>\n",
       "      <td>1</td>\n",
       "      <td>1</td>\n",
       "      <td>0</td>\n",
       "      <td>0</td>\n",
       "    </tr>\n",
       "    <tr>\n",
       "      <th>1293</th>\n",
       "      <td>46</td>\n",
       "      <td>25.745</td>\n",
       "      <td>3</td>\n",
       "      <td>1</td>\n",
       "      <td>0</td>\n",
       "      <td>1</td>\n",
       "      <td>0</td>\n",
       "      <td>0</td>\n",
       "    </tr>\n",
       "    <tr>\n",
       "      <th>259</th>\n",
       "      <td>19</td>\n",
       "      <td>31.920</td>\n",
       "      <td>0</td>\n",
       "      <td>1</td>\n",
       "      <td>1</td>\n",
       "      <td>1</td>\n",
       "      <td>0</td>\n",
       "      <td>0</td>\n",
       "    </tr>\n",
       "  </tbody>\n",
       "</table>\n",
       "</div>"
      ],
      "text/plain": [
       "      age     bmi  children  sex_male  smoker_yes  region_northwest  \\\n",
       "764    45  25.175         2         0           0                 0   \n",
       "887    36  30.020         0         0           0                 1   \n",
       "890    64  26.885         0         0           1                 1   \n",
       "1293   46  25.745         3         1           0                 1   \n",
       "259    19  31.920         0         1           1                 1   \n",
       "\n",
       "      region_southeast  region_southwest  \n",
       "764                  0                 0  \n",
       "887                  0                 0  \n",
       "890                  0                 0  \n",
       "1293                 0                 0  \n",
       "259                  0                 0  "
      ]
     },
     "execution_count": 20,
     "metadata": {},
     "output_type": "execute_result"
    }
   ],
   "source": [
    "x_test.head()"
   ]
  },
  {
   "cell_type": "code",
   "execution_count": 21,
   "id": "eda4b4a4",
   "metadata": {},
   "outputs": [
    {
     "data": {
      "text/plain": [
       "764      9095.06825\n",
       "887      5272.17580\n",
       "890     29330.98315\n",
       "1293     9301.89355\n",
       "259     33750.29180\n",
       "Name: charges, dtype: float64"
      ]
     },
     "execution_count": 21,
     "metadata": {},
     "output_type": "execute_result"
    }
   ],
   "source": [
    "y_test.head()"
   ]
  },
  {
   "cell_type": "markdown",
   "id": "e001c5e6",
   "metadata": {},
   "source": [
    "# Multivariable Linear Regression for One Hot Encoding"
   ]
  },
  {
   "cell_type": "code",
   "execution_count": 22,
   "id": "5144f7e1",
   "metadata": {},
   "outputs": [],
   "source": [
    "from sklearn.linear_model import LinearRegression\n",
    "reg = LinearRegression()"
   ]
  },
  {
   "cell_type": "code",
   "execution_count": 23,
   "id": "39a5676d",
   "metadata": {},
   "outputs": [
    {
     "data": {
      "text/html": [
       "<style>#sk-container-id-1 {color: black;background-color: white;}#sk-container-id-1 pre{padding: 0;}#sk-container-id-1 div.sk-toggleable {background-color: white;}#sk-container-id-1 label.sk-toggleable__label {cursor: pointer;display: block;width: 100%;margin-bottom: 0;padding: 0.3em;box-sizing: border-box;text-align: center;}#sk-container-id-1 label.sk-toggleable__label-arrow:before {content: \"▸\";float: left;margin-right: 0.25em;color: #696969;}#sk-container-id-1 label.sk-toggleable__label-arrow:hover:before {color: black;}#sk-container-id-1 div.sk-estimator:hover label.sk-toggleable__label-arrow:before {color: black;}#sk-container-id-1 div.sk-toggleable__content {max-height: 0;max-width: 0;overflow: hidden;text-align: left;background-color: #f0f8ff;}#sk-container-id-1 div.sk-toggleable__content pre {margin: 0.2em;color: black;border-radius: 0.25em;background-color: #f0f8ff;}#sk-container-id-1 input.sk-toggleable__control:checked~div.sk-toggleable__content {max-height: 200px;max-width: 100%;overflow: auto;}#sk-container-id-1 input.sk-toggleable__control:checked~label.sk-toggleable__label-arrow:before {content: \"▾\";}#sk-container-id-1 div.sk-estimator input.sk-toggleable__control:checked~label.sk-toggleable__label {background-color: #d4ebff;}#sk-container-id-1 div.sk-label input.sk-toggleable__control:checked~label.sk-toggleable__label {background-color: #d4ebff;}#sk-container-id-1 input.sk-hidden--visually {border: 0;clip: rect(1px 1px 1px 1px);clip: rect(1px, 1px, 1px, 1px);height: 1px;margin: -1px;overflow: hidden;padding: 0;position: absolute;width: 1px;}#sk-container-id-1 div.sk-estimator {font-family: monospace;background-color: #f0f8ff;border: 1px dotted black;border-radius: 0.25em;box-sizing: border-box;margin-bottom: 0.5em;}#sk-container-id-1 div.sk-estimator:hover {background-color: #d4ebff;}#sk-container-id-1 div.sk-parallel-item::after {content: \"\";width: 100%;border-bottom: 1px solid gray;flex-grow: 1;}#sk-container-id-1 div.sk-label:hover label.sk-toggleable__label {background-color: #d4ebff;}#sk-container-id-1 div.sk-serial::before {content: \"\";position: absolute;border-left: 1px solid gray;box-sizing: border-box;top: 0;bottom: 0;left: 50%;z-index: 0;}#sk-container-id-1 div.sk-serial {display: flex;flex-direction: column;align-items: center;background-color: white;padding-right: 0.2em;padding-left: 0.2em;position: relative;}#sk-container-id-1 div.sk-item {position: relative;z-index: 1;}#sk-container-id-1 div.sk-parallel {display: flex;align-items: stretch;justify-content: center;background-color: white;position: relative;}#sk-container-id-1 div.sk-item::before, #sk-container-id-1 div.sk-parallel-item::before {content: \"\";position: absolute;border-left: 1px solid gray;box-sizing: border-box;top: 0;bottom: 0;left: 50%;z-index: -1;}#sk-container-id-1 div.sk-parallel-item {display: flex;flex-direction: column;z-index: 1;position: relative;background-color: white;}#sk-container-id-1 div.sk-parallel-item:first-child::after {align-self: flex-end;width: 50%;}#sk-container-id-1 div.sk-parallel-item:last-child::after {align-self: flex-start;width: 50%;}#sk-container-id-1 div.sk-parallel-item:only-child::after {width: 0;}#sk-container-id-1 div.sk-dashed-wrapped {border: 1px dashed gray;margin: 0 0.4em 0.5em 0.4em;box-sizing: border-box;padding-bottom: 0.4em;background-color: white;}#sk-container-id-1 div.sk-label label {font-family: monospace;font-weight: bold;display: inline-block;line-height: 1.2em;}#sk-container-id-1 div.sk-label-container {text-align: center;}#sk-container-id-1 div.sk-container {/* jupyter's `normalize.less` sets `[hidden] { display: none; }` but bootstrap.min.css set `[hidden] { display: none !important; }` so we also need the `!important` here to be able to override the default hidden behavior on the sphinx rendered scikit-learn.org. See: https://github.com/scikit-learn/scikit-learn/issues/21755 */display: inline-block !important;position: relative;}#sk-container-id-1 div.sk-text-repr-fallback {display: none;}</style><div id=\"sk-container-id-1\" class=\"sk-top-container\"><div class=\"sk-text-repr-fallback\"><pre>LinearRegression()</pre><b>In a Jupyter environment, please rerun this cell to show the HTML representation or trust the notebook. <br />On GitHub, the HTML representation is unable to render, please try loading this page with nbviewer.org.</b></div><div class=\"sk-container\" hidden><div class=\"sk-item\"><div class=\"sk-estimator sk-toggleable\"><input class=\"sk-toggleable__control sk-hidden--visually\" id=\"sk-estimator-id-1\" type=\"checkbox\" checked><label for=\"sk-estimator-id-1\" class=\"sk-toggleable__label sk-toggleable__label-arrow\">LinearRegression</label><div class=\"sk-toggleable__content\"><pre>LinearRegression()</pre></div></div></div></div></div>"
      ],
      "text/plain": [
       "LinearRegression()"
      ]
     },
     "execution_count": 23,
     "metadata": {},
     "output_type": "execute_result"
    }
   ],
   "source": [
    "reg.fit(x_train,y_train)"
   ]
  },
  {
   "cell_type": "code",
   "execution_count": 24,
   "id": "8f1c56b4",
   "metadata": {},
   "outputs": [
    {
     "data": {
      "text/plain": [
       "array([ 9.01636753e+03,  7.01997635e+03,  3.68708343e+04,  9.51853774e+03,\n",
       "        2.69740308e+04,  1.10808462e+04, -4.06177600e+01,  1.71922331e+04,\n",
       "        9.74950536e+02,  1.13299594e+04,  2.80574861e+04,  9.47838799e+03,\n",
       "        4.98095281e+03,  3.84564701e+04,  4.03433327e+04,  3.71038753e+04,\n",
       "        1.51982019e+04,  3.57689693e+04,  8.88568387e+03,  3.13835989e+04,\n",
       "        3.79641903e+03,  1.02628964e+04,  2.37593679e+03,  7.26280819e+03,\n",
       "        1.12875675e+04,  1.31383480e+04,  1.46241614e+04,  6.07324604e+03,\n",
       "        1.00361537e+04,  1.97927814e+03,  9.07103928e+03,  1.31369887e+04,\n",
       "        4.30868680e+03,  3.21105955e+03,  4.48957162e+03,  1.33774493e+04,\n",
       "        1.82221028e+03,  8.79191682e+03,  3.31981518e+04,  3.25005781e+04,\n",
       "        3.76368816e+03,  4.35479656e+03,  1.42473276e+04,  1.15436019e+04,\n",
       "        8.70433805e+03,  1.22401028e+04,  5.20831471e+03,  2.98293172e+03,\n",
       "        3.54465532e+04,  9.10285846e+03,  1.57820945e+04,  2.13473894e+03,\n",
       "        1.24668220e+04,  1.54938571e+03,  1.34053719e+04,  1.28473334e+04,\n",
       "        4.45292570e+03,  3.22437514e+04,  1.34037537e+04,  1.30759280e+04,\n",
       "        1.42566593e+04,  1.03870794e+04,  1.66115344e+04,  7.67924983e+03,\n",
       "        1.19859772e+04,  3.92843534e+03,  2.65835119e+04,  1.08308191e+04,\n",
       "        1.95128291e+03,  6.33488049e+03,  1.10112514e+04,  1.17636262e+04,\n",
       "        1.08263871e+04,  9.08234702e+03,  1.19604601e+04,  6.50105143e+03,\n",
       "        7.42735409e+03,  1.07211916e+04,  6.33354759e+03,  8.69733988e+03,\n",
       "        3.61488505e+03,  3.68736945e+04,  6.30687909e+03,  3.09068874e+04,\n",
       "        3.49064234e+04,  3.55280239e+04,  6.88613550e+03,  1.30506683e+04,\n",
       "        9.92931617e+03,  1.46956125e+04,  1.79662926e+04,  3.50278076e+04,\n",
       "        3.30746710e+04,  6.32482249e+03,  3.19085861e+04,  9.60073983e+03,\n",
       "        2.92677441e+04,  3.39493394e+03,  2.81321269e+04,  5.80676746e+03,\n",
       "        5.31282926e+03,  1.74776460e+03,  1.15200454e+04,  1.53050498e+04,\n",
       "        1.19233534e+04,  4.16886626e+03,  9.81313523e+03,  3.15291378e+04,\n",
       "       -7.47759770e+01,  3.25392808e+04,  3.31798546e+03,  1.02123570e+04,\n",
       "        1.45082163e+04,  3.16997266e+04,  1.15930594e+04,  3.96851082e+03,\n",
       "        1.33856566e+04,  3.17279010e+04,  7.91762470e+03,  3.22395489e+03,\n",
       "        8.53540558e+03,  1.07379420e+04,  1.54527618e+04,  5.54280724e+03,\n",
       "        3.62333901e+03,  1.02353762e+04,  1.07499966e+04,  1.13664096e+04,\n",
       "        1.43531092e+04,  7.39239715e+03,  5.11044589e+03,  9.15211414e+03,\n",
       "        9.16049984e+03,  1.27422989e+04,  8.33444005e+03,  1.55896092e+04,\n",
       "        8.65087064e+03,  3.18745705e+04,  3.58544577e+04,  3.16617444e+04,\n",
       "        5.92615317e+03,  1.27853573e+04,  5.91188204e+03,  1.46675118e+04,\n",
       "        2.27316618e+03,  3.30166968e+04,  6.29418942e+03,  4.95310907e+03,\n",
       "        1.44325801e+04,  7.01569740e+03,  3.87492720e+04,  2.96019320e+03,\n",
       "        5.81725421e+03,  3.18785754e+04,  1.16459127e+04,  8.71329062e+03,\n",
       "        1.51346583e+04,  9.60753792e+03,  2.68003840e+04,  3.36706354e+04,\n",
       "        1.47334585e+04,  1.51047070e+03,  1.33077834e+04,  2.29238567e+03,\n",
       "        5.49596778e+03,  1.15549473e+04,  3.99435773e+04,  3.65333329e+04,\n",
       "        3.42186307e+04,  3.80401582e+03,  7.35909889e+03,  8.65388710e+03,\n",
       "        1.28040524e+04,  4.81713793e+03,  1.90362292e+03,  3.19590456e+04,\n",
       "        2.50622553e+04,  1.76066342e+04,  2.61755399e+04,  1.01206885e+04,\n",
       "        3.73947874e+04, -5.95739589e+02,  6.77709620e+03,  7.76609078e+03,\n",
       "        4.43645530e+03,  5.04452875e+03,  6.07417881e+03,  4.20334246e+03,\n",
       "        1.51726032e+04,  1.12607758e+04,  7.03115820e+03,  2.50525091e+03,\n",
       "        1.46223072e+03,  3.20466562e+04,  1.65083439e+04,  1.18789362e+04,\n",
       "        1.07957066e+03,  1.26607400e+04,  1.51086620e+03,  8.69657642e+03,\n",
       "        1.68902224e+03,  3.40058138e+04,  1.08756889e+04,  2.56974017e+03,\n",
       "        2.52981537e+04,  2.59738976e+04,  9.52339115e+03,  1.58473036e+03,\n",
       "        1.33107441e+04,  9.13519256e+02,  1.04715423e+04,  1.03398989e+04,\n",
       "        1.72658883e+04,  2.66233875e+04,  6.77219998e+03,  5.20991396e+03,\n",
       "        5.56558337e+03,  1.30540226e+04,  1.08915693e+04,  8.16068430e+03,\n",
       "        5.08929190e+03,  1.25297793e+04,  1.39348614e+04,  3.57516495e+04,\n",
       "        4.19584669e+03,  2.87579313e+04, -1.14816280e+03,  2.88161740e+03,\n",
       "        1.09878160e+04,  1.56242628e+04,  5.10433431e+03,  6.76301444e+03,\n",
       "        3.70867236e+03,  3.13682722e+04,  7.12374983e+03,  1.24206482e+04,\n",
       "        5.65837260e+03,  9.67672163e+03,  3.61915157e+04,  4.29099794e+03,\n",
       "        9.70105983e+03,  3.12449368e+04,  5.70357956e+03,  4.31220132e+03,\n",
       "        9.92286457e+02,  4.87642666e+03,  4.45920549e+03,  6.58071354e+03,\n",
       "        1.86745012e+04, -1.69255225e+03,  2.25329636e+03,  1.08451735e+04,\n",
       "        3.01782548e+03,  1.02761615e+04,  3.63182475e+03,  4.85687937e+03,\n",
       "        1.25657503e+04,  6.29493049e+03,  8.39003640e+03,  7.63851451e+03,\n",
       "        8.87347523e+03,  1.04366607e+04,  2.76138998e+04,  3.90930962e+04,\n",
       "        1.17741240e+04,  7.86236646e+03,  4.09351452e+04,  1.23825919e+04,\n",
       "        6.96769121e+03,  8.39240771e+03,  8.91633322e+03,  1.09407283e+04,\n",
       "        1.00125242e+04,  1.76907551e+04,  9.26683559e+02,  2.35867374e+04,\n",
       "        1.29922761e+04,  3.33839370e+04,  5.28567464e+03,  1.31828238e+04,\n",
       "        1.03836902e+04,  1.80715482e+04,  9.94657758e+03,  1.15453067e+04,\n",
       "        3.23413107e+04,  3.41161034e+03,  1.35695874e+04,  3.94082337e+04,\n",
       "        5.63940644e+03,  6.20614527e+03,  3.46648946e+03,  1.15027340e+04,\n",
       "        2.54222822e+04,  1.43993856e+04,  9.12076342e+03,  1.02268595e+04,\n",
       "        1.34991650e+04,  8.25909265e+02,  2.19043856e+03,  3.06679851e+04,\n",
       "        3.00633206e+04,  1.36495385e+04,  3.62504384e+03,  2.53430882e+04,\n",
       "        1.33871712e+04,  3.06238167e+04,  3.52503711e+03,  3.89322157e+04,\n",
       "        1.11916611e+04,  4.71456861e+03,  6.78218447e+03,  2.36501751e+03,\n",
       "        2.58238275e+04,  1.44838321e+04,  4.96503755e+02,  1.28284375e+04,\n",
       "        1.26451381e+04,  1.50224474e+04,  3.49844233e+04,  1.44199994e+04,\n",
       "        3.14508055e+04,  1.00596099e+04,  1.84250838e+04,  6.02322900e+03,\n",
       "        8.77054459e+03,  9.42475332e+03,  1.52623599e+04,  9.10147364e+03,\n",
       "        8.57703747e+03,  1.52538666e+04,  1.29162371e+04,  1.50507091e+04,\n",
       "        7.55688638e+03,  2.59073220e+04,  9.17887997e+03,  1.76843257e+03,\n",
       "        4.06914171e+03,  1.44063918e+04,  3.56818824e+04,  9.65101980e+03,\n",
       "        1.27491470e+04,  5.36425043e+03,  4.90925822e+03,  3.96001083e+03,\n",
       "        2.83671248e+03,  8.96711387e+03,  6.97687982e+03,  2.29664368e+03,\n",
       "        1.32191990e+04,  8.83743782e+03,  5.95734540e+03,  6.77014819e+02,\n",
       "        9.45177386e+03,  4.78553948e+03,  3.30846888e+04,  2.84093679e+04,\n",
       "        3.68889748e+04,  5.66951803e+03,  8.49155880e+03,  8.19133366e+03,\n",
       "        3.54425195e+03,  3.17311679e+04,  7.22097249e+03,  2.81725993e+04,\n",
       "        3.62070046e+04,  6.92517056e+03,  1.30191895e+04,  9.89787484e+03,\n",
       "        8.25555525e+03,  1.29121247e+04,  3.02357185e+04,  1.73698010e+04,\n",
       "        1.20163203e+04,  3.92606402e+03, -1.31795195e+03,  1.23019494e+04,\n",
       "        3.09216571e+04,  1.29541180e+04,  1.13530730e+04,  7.95364590e+03,\n",
       "        3.70314484e+03,  7.16459184e+03,  7.19704321e+03,  1.07380621e+04,\n",
       "        3.36978089e+04,  3.92682564e+04,  1.19732353e+04,  8.28169782e+03,\n",
       "        1.65740731e+04,  1.57632625e+04,  9.68911634e+03,  9.40128897e+03,\n",
       "        8.88121990e+03,  2.71557719e+03,  1.01799538e+04,  3.69233650e+03,\n",
       "        1.06473891e+04,  1.63027222e+04,  6.52910373e+03,  2.17378934e+03,\n",
       "        1.45036622e+04,  1.30534757e+02])"
      ]
     },
     "execution_count": 24,
     "metadata": {},
     "output_type": "execute_result"
    }
   ],
   "source": [
    "pred = reg.predict(x_test)\n",
    "pred"
   ]
  },
  {
   "cell_type": "code",
   "execution_count": 25,
   "id": "4ce01508",
   "metadata": {},
   "outputs": [
    {
     "data": {
      "text/html": [
       "<div>\n",
       "<style scoped>\n",
       "    .dataframe tbody tr th:only-of-type {\n",
       "        vertical-align: middle;\n",
       "    }\n",
       "\n",
       "    .dataframe tbody tr th {\n",
       "        vertical-align: top;\n",
       "    }\n",
       "\n",
       "    .dataframe thead th {\n",
       "        text-align: right;\n",
       "    }\n",
       "</style>\n",
       "<table border=\"1\" class=\"dataframe\">\n",
       "  <thead>\n",
       "    <tr style=\"text-align: right;\">\n",
       "      <th></th>\n",
       "      <th>Actual</th>\n",
       "      <th>Prediction</th>\n",
       "      <th>Difference</th>\n",
       "    </tr>\n",
       "  </thead>\n",
       "  <tbody>\n",
       "    <tr>\n",
       "      <th>764</th>\n",
       "      <td>9095.06825</td>\n",
       "      <td>9016.367529</td>\n",
       "      <td>78.700721</td>\n",
       "    </tr>\n",
       "    <tr>\n",
       "      <th>887</th>\n",
       "      <td>5272.17580</td>\n",
       "      <td>7019.976349</td>\n",
       "      <td>1747.800549</td>\n",
       "    </tr>\n",
       "    <tr>\n",
       "      <th>890</th>\n",
       "      <td>29330.98315</td>\n",
       "      <td>36870.834268</td>\n",
       "      <td>7539.851118</td>\n",
       "    </tr>\n",
       "    <tr>\n",
       "      <th>1293</th>\n",
       "      <td>9301.89355</td>\n",
       "      <td>9518.537736</td>\n",
       "      <td>216.644186</td>\n",
       "    </tr>\n",
       "    <tr>\n",
       "      <th>259</th>\n",
       "      <td>33750.29180</td>\n",
       "      <td>26974.030822</td>\n",
       "      <td>6776.260978</td>\n",
       "    </tr>\n",
       "  </tbody>\n",
       "</table>\n",
       "</div>"
      ],
      "text/plain": [
       "           Actual    Prediction   Difference\n",
       "764    9095.06825   9016.367529    78.700721\n",
       "887    5272.17580   7019.976349  1747.800549\n",
       "890   29330.98315  36870.834268  7539.851118\n",
       "1293   9301.89355   9518.537736   216.644186\n",
       "259   33750.29180  26974.030822  6776.260978"
      ]
     },
     "execution_count": 25,
     "metadata": {},
     "output_type": "execute_result"
    }
   ],
   "source": [
    "df_pred = pd.DataFrame({'Actual': y_test, 'Prediction': pred, 'Difference': abs(y_test - pred)})\n",
    "df_pred.head()"
   ]
  },
  {
   "cell_type": "code",
   "execution_count": 26,
   "id": "35b6187d",
   "metadata": {},
   "outputs": [
    {
     "data": {
      "text/plain": [
       "array([  261.29692414,   348.90691516,   424.11912829,   104.81182299,\n",
       "       23628.36722236,  -486.93461047,  -970.96883857,  -926.32290791])"
      ]
     },
     "execution_count": 26,
     "metadata": {},
     "output_type": "execute_result"
    }
   ],
   "source": [
    "m = reg.coef_\n",
    "m"
   ]
  },
  {
   "cell_type": "code",
   "execution_count": 27,
   "id": "4914bf1c",
   "metadata": {},
   "outputs": [
    {
     "data": {
      "text/plain": [
       "-12373.963903035477"
      ]
     },
     "execution_count": 27,
     "metadata": {},
     "output_type": "execute_result"
    }
   ],
   "source": [
    "c = reg.intercept_\n",
    "c"
   ]
  },
  {
   "cell_type": "markdown",
   "id": "84509c07",
   "metadata": {},
   "source": [
    "Accuracy, Mse, Mae for Multivariable Linear Regression"
   ]
  },
  {
   "cell_type": "code",
   "execution_count": 28,
   "id": "deb635de",
   "metadata": {},
   "outputs": [
    {
     "name": "stdout",
     "output_type": "stream",
     "text": [
      "MLR Accuracy: 0.7696118054369012\n"
     ]
    }
   ],
   "source": [
    "MLR_accuracy = reg.score(x_test,y_test)\n",
    "print(\"MLR Accuracy:\", MLR_accuracy)"
   ]
  },
  {
   "cell_type": "code",
   "execution_count": 29,
   "id": "f0233dc3",
   "metadata": {},
   "outputs": [
    {
     "name": "stdout",
     "output_type": "stream",
     "text": [
      "MLR MAE: 4145.450555627585\n"
     ]
    }
   ],
   "source": [
    "MLR_mae = mean_absolute_error(y_test,pred)\n",
    "print(\"MLR MAE:\", MLR_mae)"
   ]
  },
  {
   "cell_type": "code",
   "execution_count": 30,
   "id": "8e643a6b",
   "metadata": {},
   "outputs": [
    {
     "name": "stdout",
     "output_type": "stream",
     "text": [
      "MLR MSE: 33780509.57479163\n"
     ]
    }
   ],
   "source": [
    "MLR_mse = mean_squared_error(y_test,pred)\n",
    "print(\"MLR MSE:\", MLR_mse)"
   ]
  },
  {
   "cell_type": "markdown",
   "id": "c45283af",
   "metadata": {},
   "source": [
    "Bar-Plot"
   ]
  },
  {
   "cell_type": "code",
   "execution_count": 31,
   "id": "aeb82aa9",
   "metadata": {},
   "outputs": [],
   "source": [
    "metrics = pd.DataFrame({'Metric': ['MLR Accuracy', 'MLR MSE', 'MLR MAE'],\n",
    "                       'Value': [MLR_accuracy, MLR_mse, MLR_mae]})\n",
    "\n",
    "df_after_pred = pd.DataFrame(data=metrics)"
   ]
  },
  {
   "cell_type": "code",
   "execution_count": 32,
   "id": "03783904",
   "metadata": {},
   "outputs": [
    {
     "data": {
      "text/html": [
       "<div>\n",
       "<style scoped>\n",
       "    .dataframe tbody tr th:only-of-type {\n",
       "        vertical-align: middle;\n",
       "    }\n",
       "\n",
       "    .dataframe tbody tr th {\n",
       "        vertical-align: top;\n",
       "    }\n",
       "\n",
       "    .dataframe thead th {\n",
       "        text-align: right;\n",
       "    }\n",
       "</style>\n",
       "<table border=\"1\" class=\"dataframe\">\n",
       "  <thead>\n",
       "    <tr style=\"text-align: right;\">\n",
       "      <th></th>\n",
       "      <th>Metric</th>\n",
       "      <th>Value</th>\n",
       "    </tr>\n",
       "  </thead>\n",
       "  <tbody>\n",
       "    <tr>\n",
       "      <th>0</th>\n",
       "      <td>MLR Accuracy</td>\n",
       "      <td>7.696118e-01</td>\n",
       "    </tr>\n",
       "    <tr>\n",
       "      <th>1</th>\n",
       "      <td>MLR MSE</td>\n",
       "      <td>3.378051e+07</td>\n",
       "    </tr>\n",
       "    <tr>\n",
       "      <th>2</th>\n",
       "      <td>MLR MAE</td>\n",
       "      <td>4.145451e+03</td>\n",
       "    </tr>\n",
       "  </tbody>\n",
       "</table>\n",
       "</div>"
      ],
      "text/plain": [
       "         Metric         Value\n",
       "0  MLR Accuracy  7.696118e-01\n",
       "1       MLR MSE  3.378051e+07\n",
       "2       MLR MAE  4.145451e+03"
      ]
     },
     "execution_count": 32,
     "metadata": {},
     "output_type": "execute_result"
    }
   ],
   "source": [
    "df_after_pred.head()"
   ]
  },
  {
   "cell_type": "code",
   "execution_count": 33,
   "id": "c466b82c",
   "metadata": {},
   "outputs": [
    {
     "data": {
      "image/png": "[encoded data removed]",
      "text/plain": [
       "<Figure size 640x480 with 1 Axes>"
      ]
     },
     "metadata": {},
     "output_type": "display_data"
    }
   ],
   "source": [
    "sns.set_style(\"white\", {'axes.facecolor': '#F8F6F4'})\n",
    "sns.set_palette(['#FFAEBC', '#A0E7E5', '#B4F8C8'])\n",
    "\n",
    "fig = plt.gcf()\n",
    "fig.set_facecolor('#F8F6F4')\n",
    "\n",
    "ax = sns.barplot(x='Value', y='Metric', data=df_after_pred)\n",
    "\n",
    "plt.title(\"Multivariable Linear Regression Regression Bar-PLot\", color=\"#99627A\", fontsize=10)\n",
    "ax.set_xlabel('Value', color='#99627A', fontsize=10)\n",
    "ax.set_ylabel('Metric', color='#99627A', fontsize=10)\n",
    "\n",
    "plt.show()"
   ]
  },
  {
   "cell_type": "markdown",
   "id": "5d3dbdcf",
   "metadata": {},
   "source": [
    "# KNN Regression for One Hot Encoding"
   ]
  },
  {
   "cell_type": "code",
   "execution_count": 34,
   "id": "a45a49ef",
   "metadata": {},
   "outputs": [],
   "source": [
    "from sklearn.neighbors import KNeighborsRegressor\n",
    "knn = KNeighborsRegressor()"
   ]
  },
  {
   "cell_type": "code",
   "execution_count": 35,
   "id": "180f5e3f",
   "metadata": {},
   "outputs": [
    {
     "data": {
      "text/html": [
       "<style>#sk-container-id-2 {color: black;background-color: white;}#sk-container-id-2 pre{padding: 0;}#sk-container-id-2 div.sk-toggleable {background-color: white;}#sk-container-id-2 label.sk-toggleable__label {cursor: pointer;display: block;width: 100%;margin-bottom: 0;padding: 0.3em;box-sizing: border-box;text-align: center;}#sk-container-id-2 label.sk-toggleable__label-arrow:before {content: \"▸\";float: left;margin-right: 0.25em;color: #696969;}#sk-container-id-2 label.sk-toggleable__label-arrow:hover:before {color: black;}#sk-container-id-2 div.sk-estimator:hover label.sk-toggleable__label-arrow:before {color: black;}#sk-container-id-2 div.sk-toggleable__content {max-height: 0;max-width: 0;overflow: hidden;text-align: left;background-color: #f0f8ff;}#sk-container-id-2 div.sk-toggleable__content pre {margin: 0.2em;color: black;border-radius: 0.25em;background-color: #f0f8ff;}#sk-container-id-2 input.sk-toggleable__control:checked~div.sk-toggleable__content {max-height: 200px;max-width: 100%;overflow: auto;}#sk-container-id-2 input.sk-toggleable__control:checked~label.sk-toggleable__label-arrow:before {content: \"▾\";}#sk-container-id-2 div.sk-estimator input.sk-toggleable__control:checked~label.sk-toggleable__label {background-color: #d4ebff;}#sk-container-id-2 div.sk-label input.sk-toggleable__control:checked~label.sk-toggleable__label {background-color: #d4ebff;}#sk-container-id-2 input.sk-hidden--visually {border: 0;clip: rect(1px 1px 1px 1px);clip: rect(1px, 1px, 1px, 1px);height: 1px;margin: -1px;overflow: hidden;padding: 0;position: absolute;width: 1px;}#sk-container-id-2 div.sk-estimator {font-family: monospace;background-color: #f0f8ff;border: 1px dotted black;border-radius: 0.25em;box-sizing: border-box;margin-bottom: 0.5em;}#sk-container-id-2 div.sk-estimator:hover {background-color: #d4ebff;}#sk-container-id-2 div.sk-parallel-item::after {content: \"\";width: 100%;border-bottom: 1px solid gray;flex-grow: 1;}#sk-container-id-2 div.sk-label:hover label.sk-toggleable__label {background-color: #d4ebff;}#sk-container-id-2 div.sk-serial::before {content: \"\";position: absolute;border-left: 1px solid gray;box-sizing: border-box;top: 0;bottom: 0;left: 50%;z-index: 0;}#sk-container-id-2 div.sk-serial {display: flex;flex-direction: column;align-items: center;background-color: white;padding-right: 0.2em;padding-left: 0.2em;position: relative;}#sk-container-id-2 div.sk-item {position: relative;z-index: 1;}#sk-container-id-2 div.sk-parallel {display: flex;align-items: stretch;justify-content: center;background-color: white;position: relative;}#sk-container-id-2 div.sk-item::before, #sk-container-id-2 div.sk-parallel-item::before {content: \"\";position: absolute;border-left: 1px solid gray;box-sizing: border-box;top: 0;bottom: 0;left: 50%;z-index: -1;}#sk-container-id-2 div.sk-parallel-item {display: flex;flex-direction: column;z-index: 1;position: relative;background-color: white;}#sk-container-id-2 div.sk-parallel-item:first-child::after {align-self: flex-end;width: 50%;}#sk-container-id-2 div.sk-parallel-item:last-child::after {align-self: flex-start;width: 50%;}#sk-container-id-2 div.sk-parallel-item:only-child::after {width: 0;}#sk-container-id-2 div.sk-dashed-wrapped {border: 1px dashed gray;margin: 0 0.4em 0.5em 0.4em;box-sizing: border-box;padding-bottom: 0.4em;background-color: white;}#sk-container-id-2 div.sk-label label {font-family: monospace;font-weight: bold;display: inline-block;line-height: 1.2em;}#sk-container-id-2 div.sk-label-container {text-align: center;}#sk-container-id-2 div.sk-container {/* jupyter's `normalize.less` sets `[hidden] { display: none; }` but bootstrap.min.css set `[hidden] { display: none !important; }` so we also need the `!important` here to be able to override the default hidden behavior on the sphinx rendered scikit-learn.org. See: https://github.com/scikit-learn/scikit-learn/issues/21755 */display: inline-block !important;position: relative;}#sk-container-id-2 div.sk-text-repr-fallback {display: none;}</style><div id=\"sk-container-id-2\" class=\"sk-top-container\"><div class=\"sk-text-repr-fallback\"><pre>KNeighborsRegressor()</pre><b>In a Jupyter environment, please rerun this cell to show the HTML representation or trust the notebook. <br />On GitHub, the HTML representation is unable to render, please try loading this page with nbviewer.org.</b></div><div class=\"sk-container\" hidden><div class=\"sk-item\"><div class=\"sk-estimator sk-toggleable\"><input class=\"sk-toggleable__control sk-hidden--visually\" id=\"sk-estimator-id-2\" type=\"checkbox\" checked><label for=\"sk-estimator-id-2\" class=\"sk-toggleable__label sk-toggleable__label-arrow\">KNeighborsRegressor</label><div class=\"sk-toggleable__content\"><pre>KNeighborsRegressor()</pre></div></div></div></div></div>"
      ],
      "text/plain": [
       "KNeighborsRegressor()"
      ]
     },
     "execution_count": 35,
     "metadata": {},
     "output_type": "execute_result"
    }
   ],
   "source": [
    "knn.fit(x_train,y_train)"
   ]
  },
  {
   "cell_type": "code",
   "execution_count": 36,
   "id": "89bc67af",
   "metadata": {},
   "outputs": [
    {
     "data": {
      "text/plain": [
       "array([ 8312.86098 ,  8141.9279  , 19835.69166 , 12096.26233 ,\n",
       "       15332.645516, 13943.360824,  4275.35308 , 14203.61247 ,\n",
       "        5834.64159 , 15200.550406, 10427.38582 , 13387.24886 ,\n",
       "       13033.18345 , 23857.00397 , 29564.924988, 16020.70195 ,\n",
       "       24208.68843 , 25361.019618, 17847.351064,  9974.30213 ,\n",
       "       14758.742604, 14570.53906 ,  1794.02622 ,  9431.63652 ,\n",
       "       12413.456106, 11018.87098 , 17656.342546,  8286.929408,\n",
       "       15367.30424 ,  5704.45109 ,  7729.76777 , 11923.9141  ,\n",
       "        7268.63136 ,  9506.14603 ,  2882.80246 , 16802.621192,\n",
       "        5145.40773 , 18645.216144, 13480.09491 , 28437.513506,\n",
       "       10004.054242,  8468.02643 , 20077.170622, 15723.159074,\n",
       "        5102.62973 , 12429.37582 ,  7761.277974, 13826.077354,\n",
       "       18661.073538, 18302.42008 , 17655.668242,  7675.132008,\n",
       "        6125.34827 ,  4534.1972  , 24414.39178 , 16184.4235  ,\n",
       "        3809.08565 ,  8006.3826  , 11941.95757 , 16813.12174 ,\n",
       "       13729.40889 , 12698.954634, 35737.424848, 12971.25051 ,\n",
       "       13403.097794,  7401.62121 ,  9885.72979 , 16734.82774 ,\n",
       "        7353.067568,  9431.63652 , 29001.387126,  8456.9939  ,\n",
       "       17449.062666, 17089.041446, 17158.596396,  8141.9279  ,\n",
       "       13397.486792, 14294.44018 ,  7101.239332,  8393.70094 ,\n",
       "        1431.57403 , 22792.01652 ,  4677.97736 , 17091.78954 ,\n",
       "       17825.98554 , 22015.00923 ,  4908.17877 , 17607.37049 ,\n",
       "       12740.641684, 16134.959976, 24262.860122, 20068.935304,\n",
       "       15144.20168 ,  7763.97999 , 14547.005008,  7459.70791 ,\n",
       "        7241.00686 ,  8983.536236, 10076.98967 , 11402.02469 ,\n",
       "       10252.8821  ,  7859.1848  ,  6125.34827 , 15772.93017 ,\n",
       "       15355.573622,  1469.51263 , 19171.228924,  9912.07602 ,\n",
       "        4093.12721 , 15816.8729  ,  1523.14263 , 18413.2362  ,\n",
       "       12432.03269 , 19357.52074 ,  9312.72132 ,  6530.650914,\n",
       "       15999.17833 ,  7862.86803 ,  6173.08426 ,  7727.295344,\n",
       "       11472.92844 , 13683.65571 , 12441.535472,  2507.42809 ,\n",
       "       10558.10467 , 13988.73923 , 12056.389708, 11385.154522,\n",
       "       22504.045012, 10430.24014 ,  4242.34181 , 12423.81236 ,\n",
       "       12392.81843 , 17279.110746,  6324.31606 , 24417.761772,\n",
       "       14504.870928,  6545.36129 , 16904.480486,  8094.91487 ,\n",
       "        8216.41634 , 23344.67917 ,  9941.25587 , 20971.048974,\n",
       "        2589.98198 , 22739.131588, 10778.82064 ,  4276.16908 ,\n",
       "       27718.604054, 12721.39947 , 23368.813276, 11043.905444,\n",
       "        9299.25823 , 11265.208   , 12463.71808 , 14853.499538,\n",
       "       20026.10852 , 11462.60169 , 10694.756016, 13544.87437 ,\n",
       "       13380.70721 ,  2093.56949 , 19838.684134,  2459.48897 ,\n",
       "       19341.472236,  7147.8506  , 13746.19379 , 15057.6702  ,\n",
       "       31413.385318,  8870.77407 ,  9749.0518  , 13292.74881 ,\n",
       "       13581.21308 ,  4268.95744 ,  4201.20003 , 18120.506784,\n",
       "       10541.0388  , 13920.38452 ,  7591.21985 , 14078.89935 ,\n",
       "       19772.30332 ,  5904.410568,  7825.90006 , 11472.92844 ,\n",
       "        9604.19924 , 10643.934836,  6983.60565 ,  6473.26152 ,\n",
       "       16367.46308 , 14190.38199 , 16995.2507  ,  7655.521208,\n",
       "        9387.447888, 11640.56811 , 13464.4355  , 16571.02784 ,\n",
       "        2027.59717 , 11449.41683 ,  4534.1972  , 12121.733172,\n",
       "        3156.48049 , 13091.482102, 12662.493414, 13414.33233 ,\n",
       "       10949.85737 ,  7290.87445 , 12288.771862,  8166.46412 ,\n",
       "       16200.20101 ,  5172.3958  , 16758.88339 , 11739.78443 ,\n",
       "       23728.35802 ,  6100.74828 ,  9450.47009 ,  9624.16064 ,\n",
       "        4687.80785 , 17237.57414 , 14903.083862, 11577.11322 ,\n",
       "        1954.31972 , 16091.684412, 21212.47587 , 15814.928172,\n",
       "        4820.283852, 15675.30043 ,  3880.6482  , 14464.17875 ,\n",
       "        9866.70718 , 24144.46574 , 14101.19453 ,  9434.84186 ,\n",
       "        8542.36428 , 10118.11274 ,  9912.07602 , 16022.91939 ,\n",
       "        6711.879128, 13948.13365 , 15630.667902,  3775.804956,\n",
       "       14809.21203 , 26313.000448,  3103.87569 ,  6327.570378,\n",
       "        4757.9109  ,  3113.07223 ,  7036.99268 ,  4536.26258 ,\n",
       "       10261.4624  ,  3844.4997  ,  1896.52381 , 17123.458836,\n",
       "        3338.66073 , 11349.60886 ,  9156.327576, 12745.463442,\n",
       "       12672.21115 ,  3452.54461 , 12339.71538 ,  5100.65307 ,\n",
       "        6864.89426 , 13976.02224 ,  6177.74727 , 20638.45661 ,\n",
       "       12150.56037 ,  6466.81642 , 10725.98142 , 23433.71898 ,\n",
       "        8174.70696 , 14565.179164,  9645.70241 , 17476.948526,\n",
       "       13955.33346 , 13732.3701  ,  1986.75214 ,  6632.90322 ,\n",
       "        6125.34827 , 18930.64223 ,  8838.463172,  8749.03316 ,\n",
       "       11291.839062, 14017.98158 , 10445.30909 , 15822.53623 ,\n",
       "       19341.90676 ,  4639.256364,  9709.49892 , 25194.35481 ,\n",
       "        3691.71441 ,  9500.86133 ,  8379.33574 , 14591.76715 ,\n",
       "        8658.2805  , 13085.992388,  9879.66209 , 13650.033836,\n",
       "       16469.0503  ,  8295.21212 ,  7505.50043 , 17457.87808 ,\n",
       "       12532.91857 , 21784.92154 ,  2574.54419 ,  7852.0471  ,\n",
       "       16614.11084 , 26173.048298,  8199.23485 , 14139.54993 ,\n",
       "       17043.869098,  1651.48482 ,  9390.89367 ,  7616.471968,\n",
       "        2847.97906 , 13513.84628 ,  8561.629236, 18305.192964,\n",
       "       11196.45299 , 24514.658272, 30141.455272, 12627.55513 ,\n",
       "       12345.330994, 13997.38974 , 14922.53993 ,  4146.30034 ,\n",
       "       17847.351064, 12881.739764, 18445.309462, 13220.23728 ,\n",
       "       17929.1392  , 12990.184998, 16047.804774, 11728.01926 ,\n",
       "       11375.28038 , 17479.49881 ,  6830.08479 ,  7099.161098,\n",
       "       10727.81512 ,  9891.85168 , 25361.019618,  8445.93225 ,\n",
       "       19771.89648 ,  8275.97341 , 11151.46403 ,  8101.511606,\n",
       "        5808.67228 , 11336.421394,  6517.60475 , 12206.76559 ,\n",
       "       16960.54454 , 17710.916014, 10955.58986 ,  2039.19617 ,\n",
       "       13622.333198,  4114.735236, 12354.66696 , 10688.89515 ,\n",
       "        9368.78506 , 13235.514186, 14971.346904,  6635.8552  ,\n",
       "        1710.76416 , 10299.90304 ,  9378.49518 , 12223.763268,\n",
       "        8074.00532 ,  5861.86461 , 12912.90256 , 16613.595702,\n",
       "        9604.0266  ,  9679.6302  , 12539.29513 , 28906.605198,\n",
       "       14317.478064, 13288.12552 ,  5813.764288, 11370.80058 ,\n",
       "       12645.82058 , 11303.68484 , 10088.98697 , 10286.19838 ,\n",
       "        8782.91737 ,  9843.84115 , 14751.484524, 18599.09655 ,\n",
       "       22824.617028, 20737.84167 , 11917.51877 , 10171.43512 ,\n",
       "       13062.17865 , 16285.3887  , 23498.698236, 16512.67161 ,\n",
       "        6636.51223 ,  7610.810256, 17348.605352,  7337.32992 ,\n",
       "       12211.00672 , 17446.357   ,  7974.2215  ,  9973.228258,\n",
       "       24217.675702,  8237.440236])"
      ]
     },
     "execution_count": 36,
     "metadata": {},
     "output_type": "execute_result"
    }
   ],
   "source": [
    "knn_pred = knn.predict(x_test)\n",
    "knn_pred"
   ]
  },
  {
   "cell_type": "markdown",
   "id": "9713aa31",
   "metadata": {},
   "source": [
    "Accuracy, MSE, MAE for KNN Classification"
   ]
  },
  {
   "cell_type": "code",
   "execution_count": 37,
   "id": "fb5a70d3",
   "metadata": {},
   "outputs": [
    {
     "name": "stdout",
     "output_type": "stream",
     "text": [
      "KNN Accuracy: 0.1926782639344864\n"
     ]
    }
   ],
   "source": [
    "knn_accuracy = r2_score(y_test, knn_pred)\n",
    "print(\"KNN Accuracy:\", knn_accuracy)"
   ]
  },
  {
   "cell_type": "code",
   "execution_count": 38,
   "id": "10c5b9f8",
   "metadata": {},
   "outputs": [
    {
     "name": "stdout",
     "output_type": "stream",
     "text": [
      "KNN MSE: 118372990.79849027\n"
     ]
    }
   ],
   "source": [
    "knn_mse = mean_squared_error(y_test, knn_pred)\n",
    "print(\"KNN MSE:\", knn_mse)"
   ]
  },
  {
   "cell_type": "code",
   "execution_count": 39,
   "id": "a1e44f53",
   "metadata": {},
   "outputs": [
    {
     "name": "stdout",
     "output_type": "stream",
     "text": [
      "KNN MAE: 7571.1468788134325\n"
     ]
    }
   ],
   "source": [
    "knn_mae = mean_absolute_error(y_test, knn_pred)\n",
    "print(\"KNN MAE:\", knn_mae)"
   ]
  },
  {
   "cell_type": "markdown",
   "id": "b9492aae",
   "metadata": {},
   "source": [
    "Bar-Plot"
   ]
  },
  {
   "cell_type": "code",
   "execution_count": 40,
   "id": "29fb388f",
   "metadata": {},
   "outputs": [],
   "source": [
    "data = {'Variable':['KNN MAE','KNN MSE','KNN Accuracy'],\n",
    "         'Accuracy':[knn_mae,knn_mse,knn_accuracy]}\n",
    "df_after_KNN_pred = pd.DataFrame(data=data)"
   ]
  },
  {
   "cell_type": "code",
   "execution_count": 41,
   "id": "232a451b",
   "metadata": {},
   "outputs": [
    {
     "data": {
      "text/html": [
       "<div>\n",
       "<style scoped>\n",
       "    .dataframe tbody tr th:only-of-type {\n",
       "        vertical-align: middle;\n",
       "    }\n",
       "\n",
       "    .dataframe tbody tr th {\n",
       "        vertical-align: top;\n",
       "    }\n",
       "\n",
       "    .dataframe thead th {\n",
       "        text-align: right;\n",
       "    }\n",
       "</style>\n",
       "<table border=\"1\" class=\"dataframe\">\n",
       "  <thead>\n",
       "    <tr style=\"text-align: right;\">\n",
       "      <th></th>\n",
       "      <th>Variable</th>\n",
       "      <th>Accuracy</th>\n",
       "    </tr>\n",
       "  </thead>\n",
       "  <tbody>\n",
       "    <tr>\n",
       "      <th>0</th>\n",
       "      <td>KNN MAE</td>\n",
       "      <td>7.571147e+03</td>\n",
       "    </tr>\n",
       "    <tr>\n",
       "      <th>1</th>\n",
       "      <td>KNN MSE</td>\n",
       "      <td>1.183730e+08</td>\n",
       "    </tr>\n",
       "    <tr>\n",
       "      <th>2</th>\n",
       "      <td>KNN Accuracy</td>\n",
       "      <td>1.926783e-01</td>\n",
       "    </tr>\n",
       "  </tbody>\n",
       "</table>\n",
       "</div>"
      ],
      "text/plain": [
       "       Variable      Accuracy\n",
       "0       KNN MAE  7.571147e+03\n",
       "1       KNN MSE  1.183730e+08\n",
       "2  KNN Accuracy  1.926783e-01"
      ]
     },
     "execution_count": 41,
     "metadata": {},
     "output_type": "execute_result"
    }
   ],
   "source": [
    "df_after_KNN_pred.head()"
   ]
  },
  {
   "cell_type": "code",
   "execution_count": 42,
   "id": "c51392f1",
   "metadata": {},
   "outputs": [
    {
     "data": {
      "image/png": "[encoded data removed]",
      "text/plain": [
       "<Figure size 640x480 with 1 Axes>"
      ]
     },
     "metadata": {},
     "output_type": "display_data"
    }
   ],
   "source": [
    "sns.set_style(\"white\", {'axes.facecolor': '#F8F6F4'})\n",
    "sns.set_palette(['#FFAEBC', '#A0E7E5', '#B4F8C8'])\n",
    "\n",
    "fig = plt.gcf()\n",
    "fig.set_facecolor('#F8F6F4')\n",
    "\n",
    "ax = sns.barplot(x='Accuracy', y='Variable', data=df_after_KNN_pred)\n",
    "\n",
    "plt.title(\"KNN Regression Bar-Plot\", color=\"#99627A\", fontsize=10)\n",
    "ax.set_xlabel('Accuracy', color='#99627A', fontsize=10)\n",
    "ax.set_ylabel('Variable', color='#99627A', fontsize=10)\n",
    "\n",
    "plt.show()"
   ]
  },
  {
   "cell_type": "markdown",
   "id": "dd746e35",
   "metadata": {},
   "source": [
    "# Compare One Hot Encoding : Multivariable Linear Regression VS KNN Regression"
   ]
  },
  {
   "cell_type": "code",
   "execution_count": 43,
   "id": "7e2457f5",
   "metadata": {},
   "outputs": [
    {
     "data": {
      "text/html": [
       "<div>\n",
       "<style scoped>\n",
       "    .dataframe tbody tr th:only-of-type {\n",
       "        vertical-align: middle;\n",
       "    }\n",
       "\n",
       "    .dataframe tbody tr th {\n",
       "        vertical-align: top;\n",
       "    }\n",
       "\n",
       "    .dataframe thead th {\n",
       "        text-align: right;\n",
       "    }\n",
       "</style>\n",
       "<table border=\"1\" class=\"dataframe\">\n",
       "  <thead>\n",
       "    <tr style=\"text-align: right;\">\n",
       "      <th></th>\n",
       "      <th>Variable</th>\n",
       "      <th>Accuracy</th>\n",
       "    </tr>\n",
       "  </thead>\n",
       "  <tbody>\n",
       "    <tr>\n",
       "      <th>0</th>\n",
       "      <td>Multivariable Linear Regression MAE</td>\n",
       "      <td>4.145451e+03</td>\n",
       "    </tr>\n",
       "    <tr>\n",
       "      <th>1</th>\n",
       "      <td>Multivariable Linear Regression MSE</td>\n",
       "      <td>3.378051e+07</td>\n",
       "    </tr>\n",
       "    <tr>\n",
       "      <th>2</th>\n",
       "      <td>Multivariable Linear Regression Accuracy</td>\n",
       "      <td>7.696118e-01</td>\n",
       "    </tr>\n",
       "    <tr>\n",
       "      <th>0</th>\n",
       "      <td>KNN Regression MAE</td>\n",
       "      <td>7.571147e+03</td>\n",
       "    </tr>\n",
       "    <tr>\n",
       "      <th>1</th>\n",
       "      <td>KNN Regression MSE</td>\n",
       "      <td>1.183730e+08</td>\n",
       "    </tr>\n",
       "    <tr>\n",
       "      <th>2</th>\n",
       "      <td>KNN Regression Accuracy</td>\n",
       "      <td>1.926783e-01</td>\n",
       "    </tr>\n",
       "  </tbody>\n",
       "</table>\n",
       "</div>"
      ],
      "text/plain": [
       "                                   Variable      Accuracy\n",
       "0       Multivariable Linear Regression MAE  4.145451e+03\n",
       "1       Multivariable Linear Regression MSE  3.378051e+07\n",
       "2  Multivariable Linear Regression Accuracy  7.696118e-01\n",
       "0                        KNN Regression MAE  7.571147e+03\n",
       "1                        KNN Regression MSE  1.183730e+08\n",
       "2                   KNN Regression Accuracy  1.926783e-01"
      ]
     },
     "execution_count": 43,
     "metadata": {},
     "output_type": "execute_result"
    }
   ],
   "source": [
    "linear_data = {'Variable': ['Multivariable Linear Regression MAE', 'Multivariable Linear Regression MSE', 'Multivariable Linear Regression Accuracy'],\n",
    "                 'Accuracy': [MLR_mae, MLR_mse, MLR_accuracy]}\n",
    "df_after_pred = pd.DataFrame(data=linear_data)\n",
    "\n",
    "knn_data = {'Variable': ['KNN Regression MAE', 'KNN Regression MSE', 'KNN Regression Accuracy'],\n",
    "            'Accuracy': [knn_mae, knn_mse, knn_accuracy]}\n",
    "df_after_KNN_pred = pd.DataFrame(data=knn_data)\n",
    "\n",
    "\n",
    "result_df = pd.concat([df_after_pred, df_after_KNN_pred], axis=0)\n",
    "result_df"
   ]
  },
  {
   "cell_type": "code",
   "execution_count": 44,
   "id": "1d90ae14",
   "metadata": {},
   "outputs": [
    {
     "data": {
      "image/png": "[encoded data removed]",
      "text/plain": [
       "<Figure size 640x480 with 1 Axes>"
      ]
     },
     "metadata": {},
     "output_type": "display_data"
    }
   ],
   "source": [
    "sns.set_style(\"white\", {'axes.facecolor': '#F8F6F4'})\n",
    "sns.set_palette(['#643A6B', '#FFAEBC', '#A0E7E5', '#B4F8C8', '#AAD6A0', '#FBE7C6', '#FFA384'])\n",
    "\n",
    "fig = plt.gcf()\n",
    "fig.set_facecolor('#F8F6F4')\n",
    "\n",
    "ax = sns.barplot(x='Accuracy', y='Variable', data=result_df)\n",
    "\n",
    "plt.title(\"Testing Bar-Plot\", color=\"#99627A\", fontsize=10)\n",
    "ax.set_xlabel('Accuracy', color='#99627A', fontsize=10)\n",
    "ax.set_ylabel('Variable', color='#99627A', fontsize=10)\n",
    "\n",
    "plt.show()"
   ]
  },
  {
   "cell_type": "markdown",
   "id": "506b5b38",
   "metadata": {},
   "source": [
    "# Label Encoding"
   ]
  },
  {
   "cell_type": "code",
   "execution_count": 45,
   "id": "8933fd90",
   "metadata": {},
   "outputs": [],
   "source": [
    "from pandas.api.types import is_numeric_dtype\n",
    "from sklearn.preprocessing import LabelEncoder\n",
    "le = LabelEncoder()"
   ]
  },
  {
   "cell_type": "code",
   "execution_count": 46,
   "id": "cc7ee862",
   "metadata": {},
   "outputs": [
    {
     "data": {
      "text/html": [
       "<div>\n",
       "<style scoped>\n",
       "    .dataframe tbody tr th:only-of-type {\n",
       "        vertical-align: middle;\n",
       "    }\n",
       "\n",
       "    .dataframe tbody tr th {\n",
       "        vertical-align: top;\n",
       "    }\n",
       "\n",
       "    .dataframe thead th {\n",
       "        text-align: right;\n",
       "    }\n",
       "</style>\n",
       "<table border=\"1\" class=\"dataframe\">\n",
       "  <thead>\n",
       "    <tr style=\"text-align: right;\">\n",
       "      <th></th>\n",
       "      <th>age</th>\n",
       "      <th>sex</th>\n",
       "      <th>bmi</th>\n",
       "      <th>children</th>\n",
       "      <th>smoker</th>\n",
       "      <th>region</th>\n",
       "      <th>charges</th>\n",
       "    </tr>\n",
       "  </thead>\n",
       "  <tbody>\n",
       "    <tr>\n",
       "      <th>0</th>\n",
       "      <td>19</td>\n",
       "      <td>female</td>\n",
       "      <td>27.900</td>\n",
       "      <td>0</td>\n",
       "      <td>yes</td>\n",
       "      <td>southwest</td>\n",
       "      <td>16884.92400</td>\n",
       "    </tr>\n",
       "    <tr>\n",
       "      <th>1</th>\n",
       "      <td>18</td>\n",
       "      <td>male</td>\n",
       "      <td>33.770</td>\n",
       "      <td>1</td>\n",
       "      <td>no</td>\n",
       "      <td>southeast</td>\n",
       "      <td>1725.55230</td>\n",
       "    </tr>\n",
       "    <tr>\n",
       "      <th>2</th>\n",
       "      <td>28</td>\n",
       "      <td>male</td>\n",
       "      <td>33.000</td>\n",
       "      <td>3</td>\n",
       "      <td>no</td>\n",
       "      <td>southeast</td>\n",
       "      <td>4449.46200</td>\n",
       "    </tr>\n",
       "    <tr>\n",
       "      <th>3</th>\n",
       "      <td>33</td>\n",
       "      <td>male</td>\n",
       "      <td>22.705</td>\n",
       "      <td>0</td>\n",
       "      <td>no</td>\n",
       "      <td>northwest</td>\n",
       "      <td>21984.47061</td>\n",
       "    </tr>\n",
       "    <tr>\n",
       "      <th>4</th>\n",
       "      <td>32</td>\n",
       "      <td>male</td>\n",
       "      <td>28.880</td>\n",
       "      <td>0</td>\n",
       "      <td>no</td>\n",
       "      <td>northwest</td>\n",
       "      <td>3866.85520</td>\n",
       "    </tr>\n",
       "  </tbody>\n",
       "</table>\n",
       "</div>"
      ],
      "text/plain": [
       "   age     sex     bmi  children smoker     region      charges\n",
       "0   19  female  27.900         0    yes  southwest  16884.92400\n",
       "1   18    male  33.770         1     no  southeast   1725.55230\n",
       "2   28    male  33.000         3     no  southeast   4449.46200\n",
       "3   33    male  22.705         0     no  northwest  21984.47061\n",
       "4   32    male  28.880         0     no  northwest   3866.85520"
      ]
     },
     "execution_count": 46,
     "metadata": {},
     "output_type": "execute_result"
    }
   ],
   "source": [
    "df.head()"
   ]
  },
  {
   "cell_type": "code",
   "execution_count": 47,
   "id": "34ad682a",
   "metadata": {},
   "outputs": [
    {
     "data": {
      "text/plain": [
       "Index(['age', 'sex', 'bmi', 'children', 'smoker', 'region', 'charges'], dtype='object')"
      ]
     },
     "execution_count": 47,
     "metadata": {},
     "output_type": "execute_result"
    }
   ],
   "source": [
    "df.columns"
   ]
  },
  {
   "cell_type": "code",
   "execution_count": 48,
   "id": "b551cb81",
   "metadata": {},
   "outputs": [
    {
     "data": {
      "text/html": [
       "<div>\n",
       "<style scoped>\n",
       "    .dataframe tbody tr th:only-of-type {\n",
       "        vertical-align: middle;\n",
       "    }\n",
       "\n",
       "    .dataframe tbody tr th {\n",
       "        vertical-align: top;\n",
       "    }\n",
       "\n",
       "    .dataframe thead th {\n",
       "        text-align: right;\n",
       "    }\n",
       "</style>\n",
       "<table border=\"1\" class=\"dataframe\">\n",
       "  <thead>\n",
       "    <tr style=\"text-align: right;\">\n",
       "      <th></th>\n",
       "      <th>age</th>\n",
       "      <th>sex</th>\n",
       "      <th>bmi</th>\n",
       "      <th>children</th>\n",
       "      <th>smoker</th>\n",
       "      <th>region</th>\n",
       "      <th>charges</th>\n",
       "    </tr>\n",
       "  </thead>\n",
       "  <tbody>\n",
       "    <tr>\n",
       "      <th>0</th>\n",
       "      <td>19</td>\n",
       "      <td>0</td>\n",
       "      <td>27.900</td>\n",
       "      <td>0</td>\n",
       "      <td>1</td>\n",
       "      <td>3</td>\n",
       "      <td>16884.92400</td>\n",
       "    </tr>\n",
       "    <tr>\n",
       "      <th>1</th>\n",
       "      <td>18</td>\n",
       "      <td>1</td>\n",
       "      <td>33.770</td>\n",
       "      <td>1</td>\n",
       "      <td>0</td>\n",
       "      <td>2</td>\n",
       "      <td>1725.55230</td>\n",
       "    </tr>\n",
       "    <tr>\n",
       "      <th>2</th>\n",
       "      <td>28</td>\n",
       "      <td>1</td>\n",
       "      <td>33.000</td>\n",
       "      <td>3</td>\n",
       "      <td>0</td>\n",
       "      <td>2</td>\n",
       "      <td>4449.46200</td>\n",
       "    </tr>\n",
       "    <tr>\n",
       "      <th>3</th>\n",
       "      <td>33</td>\n",
       "      <td>1</td>\n",
       "      <td>22.705</td>\n",
       "      <td>0</td>\n",
       "      <td>0</td>\n",
       "      <td>1</td>\n",
       "      <td>21984.47061</td>\n",
       "    </tr>\n",
       "    <tr>\n",
       "      <th>4</th>\n",
       "      <td>32</td>\n",
       "      <td>1</td>\n",
       "      <td>28.880</td>\n",
       "      <td>0</td>\n",
       "      <td>0</td>\n",
       "      <td>1</td>\n",
       "      <td>3866.85520</td>\n",
       "    </tr>\n",
       "  </tbody>\n",
       "</table>\n",
       "</div>"
      ],
      "text/plain": [
       "   age  sex     bmi  children  smoker  region      charges\n",
       "0   19    0  27.900         0       1       3  16884.92400\n",
       "1   18    1  33.770         1       0       2   1725.55230\n",
       "2   28    1  33.000         3       0       2   4449.46200\n",
       "3   33    1  22.705         0       0       1  21984.47061\n",
       "4   32    1  28.880         0       0       1   3866.85520"
      ]
     },
     "execution_count": 48,
     "metadata": {},
     "output_type": "execute_result"
    }
   ],
   "source": [
    "for col in df.columns:\n",
    "    if not is_numeric_dtype(df[col]):\n",
    "        df[col] = le.fit_transform(df[col])\n",
    "df.head()"
   ]
  },
  {
   "cell_type": "code",
   "execution_count": 49,
   "id": "f85ff846",
   "metadata": {},
   "outputs": [
    {
     "data": {
      "text/html": [
       "<div>\n",
       "<style scoped>\n",
       "    .dataframe tbody tr th:only-of-type {\n",
       "        vertical-align: middle;\n",
       "    }\n",
       "\n",
       "    .dataframe tbody tr th {\n",
       "        vertical-align: top;\n",
       "    }\n",
       "\n",
       "    .dataframe thead th {\n",
       "        text-align: right;\n",
       "    }\n",
       "</style>\n",
       "<table border=\"1\" class=\"dataframe\">\n",
       "  <thead>\n",
       "    <tr style=\"text-align: right;\">\n",
       "      <th></th>\n",
       "      <th>age</th>\n",
       "      <th>sex</th>\n",
       "      <th>bmi</th>\n",
       "      <th>children</th>\n",
       "      <th>smoker</th>\n",
       "      <th>region</th>\n",
       "      <th>charges</th>\n",
       "    </tr>\n",
       "  </thead>\n",
       "  <tbody>\n",
       "    <tr>\n",
       "      <th>count</th>\n",
       "      <td>1338.000000</td>\n",
       "      <td>1338.000000</td>\n",
       "      <td>1338.000000</td>\n",
       "      <td>1338.000000</td>\n",
       "      <td>1338.000000</td>\n",
       "      <td>1338.000000</td>\n",
       "      <td>1338.000000</td>\n",
       "    </tr>\n",
       "    <tr>\n",
       "      <th>mean</th>\n",
       "      <td>39.207025</td>\n",
       "      <td>0.505232</td>\n",
       "      <td>30.663397</td>\n",
       "      <td>1.094918</td>\n",
       "      <td>0.204783</td>\n",
       "      <td>1.515695</td>\n",
       "      <td>13270.422265</td>\n",
       "    </tr>\n",
       "    <tr>\n",
       "      <th>std</th>\n",
       "      <td>14.049960</td>\n",
       "      <td>0.500160</td>\n",
       "      <td>6.098187</td>\n",
       "      <td>1.205493</td>\n",
       "      <td>0.403694</td>\n",
       "      <td>1.104885</td>\n",
       "      <td>12110.011237</td>\n",
       "    </tr>\n",
       "    <tr>\n",
       "      <th>min</th>\n",
       "      <td>18.000000</td>\n",
       "      <td>0.000000</td>\n",
       "      <td>15.960000</td>\n",
       "      <td>0.000000</td>\n",
       "      <td>0.000000</td>\n",
       "      <td>0.000000</td>\n",
       "      <td>1121.873900</td>\n",
       "    </tr>\n",
       "    <tr>\n",
       "      <th>25%</th>\n",
       "      <td>27.000000</td>\n",
       "      <td>0.000000</td>\n",
       "      <td>26.296250</td>\n",
       "      <td>0.000000</td>\n",
       "      <td>0.000000</td>\n",
       "      <td>1.000000</td>\n",
       "      <td>4740.287150</td>\n",
       "    </tr>\n",
       "    <tr>\n",
       "      <th>50%</th>\n",
       "      <td>39.000000</td>\n",
       "      <td>1.000000</td>\n",
       "      <td>30.400000</td>\n",
       "      <td>1.000000</td>\n",
       "      <td>0.000000</td>\n",
       "      <td>2.000000</td>\n",
       "      <td>9382.033000</td>\n",
       "    </tr>\n",
       "    <tr>\n",
       "      <th>75%</th>\n",
       "      <td>51.000000</td>\n",
       "      <td>1.000000</td>\n",
       "      <td>34.693750</td>\n",
       "      <td>2.000000</td>\n",
       "      <td>0.000000</td>\n",
       "      <td>2.000000</td>\n",
       "      <td>16639.912515</td>\n",
       "    </tr>\n",
       "    <tr>\n",
       "      <th>max</th>\n",
       "      <td>64.000000</td>\n",
       "      <td>1.000000</td>\n",
       "      <td>53.130000</td>\n",
       "      <td>5.000000</td>\n",
       "      <td>1.000000</td>\n",
       "      <td>3.000000</td>\n",
       "      <td>63770.428010</td>\n",
       "    </tr>\n",
       "  </tbody>\n",
       "</table>\n",
       "</div>"
      ],
      "text/plain": [
       "               age          sex          bmi     children       smoker  \\\n",
       "count  1338.000000  1338.000000  1338.000000  1338.000000  1338.000000   \n",
       "mean     39.207025     0.505232    30.663397     1.094918     0.204783   \n",
       "std      14.049960     0.500160     6.098187     1.205493     0.403694   \n",
       "min      18.000000     0.000000    15.960000     0.000000     0.000000   \n",
       "25%      27.000000     0.000000    26.296250     0.000000     0.000000   \n",
       "50%      39.000000     1.000000    30.400000     1.000000     0.000000   \n",
       "75%      51.000000     1.000000    34.693750     2.000000     0.000000   \n",
       "max      64.000000     1.000000    53.130000     5.000000     1.000000   \n",
       "\n",
       "            region       charges  \n",
       "count  1338.000000   1338.000000  \n",
       "mean      1.515695  13270.422265  \n",
       "std       1.104885  12110.011237  \n",
       "min       0.000000   1121.873900  \n",
       "25%       1.000000   4740.287150  \n",
       "50%       2.000000   9382.033000  \n",
       "75%       2.000000  16639.912515  \n",
       "max       3.000000  63770.428010  "
      ]
     },
     "execution_count": 49,
     "metadata": {},
     "output_type": "execute_result"
    }
   ],
   "source": [
    "df.describe()"
   ]
  },
  {
   "cell_type": "code",
   "execution_count": 50,
   "id": "2a993d29",
   "metadata": {},
   "outputs": [
    {
     "data": {
      "text/html": [
       "<div>\n",
       "<style scoped>\n",
       "    .dataframe tbody tr th:only-of-type {\n",
       "        vertical-align: middle;\n",
       "    }\n",
       "\n",
       "    .dataframe tbody tr th {\n",
       "        vertical-align: top;\n",
       "    }\n",
       "\n",
       "    .dataframe thead th {\n",
       "        text-align: right;\n",
       "    }\n",
       "</style>\n",
       "<table border=\"1\" class=\"dataframe\">\n",
       "  <thead>\n",
       "    <tr style=\"text-align: right;\">\n",
       "      <th></th>\n",
       "      <th>count</th>\n",
       "      <th>mean</th>\n",
       "      <th>std</th>\n",
       "      <th>min</th>\n",
       "      <th>25%</th>\n",
       "      <th>50%</th>\n",
       "      <th>75%</th>\n",
       "      <th>max</th>\n",
       "    </tr>\n",
       "  </thead>\n",
       "  <tbody>\n",
       "    <tr>\n",
       "      <th>age</th>\n",
       "      <td>1338.0</td>\n",
       "      <td>39.207025</td>\n",
       "      <td>14.049960</td>\n",
       "      <td>18.0000</td>\n",
       "      <td>27.00000</td>\n",
       "      <td>39.000</td>\n",
       "      <td>51.000000</td>\n",
       "      <td>64.00000</td>\n",
       "    </tr>\n",
       "    <tr>\n",
       "      <th>sex</th>\n",
       "      <td>1338.0</td>\n",
       "      <td>0.505232</td>\n",
       "      <td>0.500160</td>\n",
       "      <td>0.0000</td>\n",
       "      <td>0.00000</td>\n",
       "      <td>1.000</td>\n",
       "      <td>1.000000</td>\n",
       "      <td>1.00000</td>\n",
       "    </tr>\n",
       "    <tr>\n",
       "      <th>bmi</th>\n",
       "      <td>1338.0</td>\n",
       "      <td>30.663397</td>\n",
       "      <td>6.098187</td>\n",
       "      <td>15.9600</td>\n",
       "      <td>26.29625</td>\n",
       "      <td>30.400</td>\n",
       "      <td>34.693750</td>\n",
       "      <td>53.13000</td>\n",
       "    </tr>\n",
       "    <tr>\n",
       "      <th>children</th>\n",
       "      <td>1338.0</td>\n",
       "      <td>1.094918</td>\n",
       "      <td>1.205493</td>\n",
       "      <td>0.0000</td>\n",
       "      <td>0.00000</td>\n",
       "      <td>1.000</td>\n",
       "      <td>2.000000</td>\n",
       "      <td>5.00000</td>\n",
       "    </tr>\n",
       "    <tr>\n",
       "      <th>smoker</th>\n",
       "      <td>1338.0</td>\n",
       "      <td>0.204783</td>\n",
       "      <td>0.403694</td>\n",
       "      <td>0.0000</td>\n",
       "      <td>0.00000</td>\n",
       "      <td>0.000</td>\n",
       "      <td>0.000000</td>\n",
       "      <td>1.00000</td>\n",
       "    </tr>\n",
       "    <tr>\n",
       "      <th>region</th>\n",
       "      <td>1338.0</td>\n",
       "      <td>1.515695</td>\n",
       "      <td>1.104885</td>\n",
       "      <td>0.0000</td>\n",
       "      <td>1.00000</td>\n",
       "      <td>2.000</td>\n",
       "      <td>2.000000</td>\n",
       "      <td>3.00000</td>\n",
       "    </tr>\n",
       "    <tr>\n",
       "      <th>charges</th>\n",
       "      <td>1338.0</td>\n",
       "      <td>13270.422265</td>\n",
       "      <td>12110.011237</td>\n",
       "      <td>1121.8739</td>\n",
       "      <td>4740.28715</td>\n",
       "      <td>9382.033</td>\n",
       "      <td>16639.912515</td>\n",
       "      <td>63770.42801</td>\n",
       "    </tr>\n",
       "  </tbody>\n",
       "</table>\n",
       "</div>"
      ],
      "text/plain": [
       "           count          mean           std        min         25%       50%  \\\n",
       "age       1338.0     39.207025     14.049960    18.0000    27.00000    39.000   \n",
       "sex       1338.0      0.505232      0.500160     0.0000     0.00000     1.000   \n",
       "bmi       1338.0     30.663397      6.098187    15.9600    26.29625    30.400   \n",
       "children  1338.0      1.094918      1.205493     0.0000     0.00000     1.000   \n",
       "smoker    1338.0      0.204783      0.403694     0.0000     0.00000     0.000   \n",
       "region    1338.0      1.515695      1.104885     0.0000     1.00000     2.000   \n",
       "charges   1338.0  13270.422265  12110.011237  1121.8739  4740.28715  9382.033   \n",
       "\n",
       "                   75%          max  \n",
       "age          51.000000     64.00000  \n",
       "sex           1.000000      1.00000  \n",
       "bmi          34.693750     53.13000  \n",
       "children      2.000000      5.00000  \n",
       "smoker        0.000000      1.00000  \n",
       "region        2.000000      3.00000  \n",
       "charges   16639.912515  63770.42801  "
      ]
     },
     "execution_count": 50,
     "metadata": {},
     "output_type": "execute_result"
    }
   ],
   "source": [
    "df.describe().T"
   ]
  },
  {
   "cell_type": "markdown",
   "id": "73297d2f",
   "metadata": {},
   "source": [
    "Separate X & Y, Train & Test"
   ]
  },
  {
   "cell_type": "code",
   "execution_count": 51,
   "id": "ff4c54fa",
   "metadata": {},
   "outputs": [],
   "source": [
    "x = df.drop('charges',axis=1)\n",
    "y = df['charges']"
   ]
  },
  {
   "cell_type": "code",
   "execution_count": 52,
   "id": "9fa1008a",
   "metadata": {},
   "outputs": [
    {
     "data": {
      "text/html": [
       "<div>\n",
       "<style scoped>\n",
       "    .dataframe tbody tr th:only-of-type {\n",
       "        vertical-align: middle;\n",
       "    }\n",
       "\n",
       "    .dataframe tbody tr th {\n",
       "        vertical-align: top;\n",
       "    }\n",
       "\n",
       "    .dataframe thead th {\n",
       "        text-align: right;\n",
       "    }\n",
       "</style>\n",
       "<table border=\"1\" class=\"dataframe\">\n",
       "  <thead>\n",
       "    <tr style=\"text-align: right;\">\n",
       "      <th></th>\n",
       "      <th>age</th>\n",
       "      <th>sex</th>\n",
       "      <th>bmi</th>\n",
       "      <th>children</th>\n",
       "      <th>smoker</th>\n",
       "      <th>region</th>\n",
       "    </tr>\n",
       "  </thead>\n",
       "  <tbody>\n",
       "    <tr>\n",
       "      <th>0</th>\n",
       "      <td>19</td>\n",
       "      <td>0</td>\n",
       "      <td>27.900</td>\n",
       "      <td>0</td>\n",
       "      <td>1</td>\n",
       "      <td>3</td>\n",
       "    </tr>\n",
       "    <tr>\n",
       "      <th>1</th>\n",
       "      <td>18</td>\n",
       "      <td>1</td>\n",
       "      <td>33.770</td>\n",
       "      <td>1</td>\n",
       "      <td>0</td>\n",
       "      <td>2</td>\n",
       "    </tr>\n",
       "    <tr>\n",
       "      <th>2</th>\n",
       "      <td>28</td>\n",
       "      <td>1</td>\n",
       "      <td>33.000</td>\n",
       "      <td>3</td>\n",
       "      <td>0</td>\n",
       "      <td>2</td>\n",
       "    </tr>\n",
       "    <tr>\n",
       "      <th>3</th>\n",
       "      <td>33</td>\n",
       "      <td>1</td>\n",
       "      <td>22.705</td>\n",
       "      <td>0</td>\n",
       "      <td>0</td>\n",
       "      <td>1</td>\n",
       "    </tr>\n",
       "    <tr>\n",
       "      <th>4</th>\n",
       "      <td>32</td>\n",
       "      <td>1</td>\n",
       "      <td>28.880</td>\n",
       "      <td>0</td>\n",
       "      <td>0</td>\n",
       "      <td>1</td>\n",
       "    </tr>\n",
       "  </tbody>\n",
       "</table>\n",
       "</div>"
      ],
      "text/plain": [
       "   age  sex     bmi  children  smoker  region\n",
       "0   19    0  27.900         0       1       3\n",
       "1   18    1  33.770         1       0       2\n",
       "2   28    1  33.000         3       0       2\n",
       "3   33    1  22.705         0       0       1\n",
       "4   32    1  28.880         0       0       1"
      ]
     },
     "execution_count": 52,
     "metadata": {},
     "output_type": "execute_result"
    }
   ],
   "source": [
    "x.head()"
   ]
  },
  {
   "cell_type": "code",
   "execution_count": 53,
   "id": "dafc3011",
   "metadata": {},
   "outputs": [
    {
     "data": {
      "text/plain": [
       "0    16884.92400\n",
       "1     1725.55230\n",
       "2     4449.46200\n",
       "3    21984.47061\n",
       "4     3866.85520\n",
       "Name: charges, dtype: float64"
      ]
     },
     "execution_count": 53,
     "metadata": {},
     "output_type": "execute_result"
    }
   ],
   "source": [
    "y.head()"
   ]
  },
  {
   "cell_type": "code",
   "execution_count": 54,
   "id": "216b2b1c",
   "metadata": {},
   "outputs": [],
   "source": [
    "from sklearn.model_selection import train_test_split as tts\n",
    "xtrain,xtest,ytrain,ytest = tts(x,y,test_size=0.3,random_state=42)"
   ]
  },
  {
   "cell_type": "code",
   "execution_count": 55,
   "id": "6f5adcf5",
   "metadata": {},
   "outputs": [
    {
     "data": {
      "text/html": [
       "<div>\n",
       "<style scoped>\n",
       "    .dataframe tbody tr th:only-of-type {\n",
       "        vertical-align: middle;\n",
       "    }\n",
       "\n",
       "    .dataframe tbody tr th {\n",
       "        vertical-align: top;\n",
       "    }\n",
       "\n",
       "    .dataframe thead th {\n",
       "        text-align: right;\n",
       "    }\n",
       "</style>\n",
       "<table border=\"1\" class=\"dataframe\">\n",
       "  <thead>\n",
       "    <tr style=\"text-align: right;\">\n",
       "      <th></th>\n",
       "      <th>age</th>\n",
       "      <th>sex</th>\n",
       "      <th>bmi</th>\n",
       "      <th>children</th>\n",
       "      <th>smoker</th>\n",
       "      <th>region</th>\n",
       "    </tr>\n",
       "  </thead>\n",
       "  <tbody>\n",
       "    <tr>\n",
       "      <th>332</th>\n",
       "      <td>61</td>\n",
       "      <td>0</td>\n",
       "      <td>31.160</td>\n",
       "      <td>0</td>\n",
       "      <td>0</td>\n",
       "      <td>1</td>\n",
       "    </tr>\n",
       "    <tr>\n",
       "      <th>355</th>\n",
       "      <td>46</td>\n",
       "      <td>1</td>\n",
       "      <td>27.600</td>\n",
       "      <td>0</td>\n",
       "      <td>0</td>\n",
       "      <td>3</td>\n",
       "    </tr>\n",
       "    <tr>\n",
       "      <th>138</th>\n",
       "      <td>54</td>\n",
       "      <td>0</td>\n",
       "      <td>31.900</td>\n",
       "      <td>3</td>\n",
       "      <td>0</td>\n",
       "      <td>2</td>\n",
       "    </tr>\n",
       "    <tr>\n",
       "      <th>381</th>\n",
       "      <td>55</td>\n",
       "      <td>1</td>\n",
       "      <td>30.685</td>\n",
       "      <td>0</td>\n",
       "      <td>1</td>\n",
       "      <td>0</td>\n",
       "    </tr>\n",
       "    <tr>\n",
       "      <th>292</th>\n",
       "      <td>25</td>\n",
       "      <td>1</td>\n",
       "      <td>45.540</td>\n",
       "      <td>2</td>\n",
       "      <td>1</td>\n",
       "      <td>2</td>\n",
       "    </tr>\n",
       "  </tbody>\n",
       "</table>\n",
       "</div>"
      ],
      "text/plain": [
       "     age  sex     bmi  children  smoker  region\n",
       "332   61    0  31.160         0       0       1\n",
       "355   46    1  27.600         0       0       3\n",
       "138   54    0  31.900         3       0       2\n",
       "381   55    1  30.685         0       1       0\n",
       "292   25    1  45.540         2       1       2"
      ]
     },
     "execution_count": 55,
     "metadata": {},
     "output_type": "execute_result"
    }
   ],
   "source": [
    "xtrain.head()"
   ]
  },
  {
   "cell_type": "code",
   "execution_count": 56,
   "id": "6552e8bb",
   "metadata": {},
   "outputs": [
    {
     "data": {
      "text/plain": [
       "332    13429.03540\n",
       "355    24603.04837\n",
       "138    27322.73386\n",
       "381    42303.69215\n",
       "292    42112.23560\n",
       "Name: charges, dtype: float64"
      ]
     },
     "execution_count": 56,
     "metadata": {},
     "output_type": "execute_result"
    }
   ],
   "source": [
    "ytrain.head()"
   ]
  },
  {
   "cell_type": "code",
   "execution_count": 57,
   "id": "a3608cb8",
   "metadata": {},
   "outputs": [
    {
     "data": {
      "text/html": [
       "<div>\n",
       "<style scoped>\n",
       "    .dataframe tbody tr th:only-of-type {\n",
       "        vertical-align: middle;\n",
       "    }\n",
       "\n",
       "    .dataframe tbody tr th {\n",
       "        vertical-align: top;\n",
       "    }\n",
       "\n",
       "    .dataframe thead th {\n",
       "        text-align: right;\n",
       "    }\n",
       "</style>\n",
       "<table border=\"1\" class=\"dataframe\">\n",
       "  <thead>\n",
       "    <tr style=\"text-align: right;\">\n",
       "      <th></th>\n",
       "      <th>age</th>\n",
       "      <th>sex</th>\n",
       "      <th>bmi</th>\n",
       "      <th>children</th>\n",
       "      <th>smoker</th>\n",
       "      <th>region</th>\n",
       "    </tr>\n",
       "  </thead>\n",
       "  <tbody>\n",
       "    <tr>\n",
       "      <th>764</th>\n",
       "      <td>45</td>\n",
       "      <td>0</td>\n",
       "      <td>25.175</td>\n",
       "      <td>2</td>\n",
       "      <td>0</td>\n",
       "      <td>0</td>\n",
       "    </tr>\n",
       "    <tr>\n",
       "      <th>887</th>\n",
       "      <td>36</td>\n",
       "      <td>0</td>\n",
       "      <td>30.020</td>\n",
       "      <td>0</td>\n",
       "      <td>0</td>\n",
       "      <td>1</td>\n",
       "    </tr>\n",
       "    <tr>\n",
       "      <th>890</th>\n",
       "      <td>64</td>\n",
       "      <td>0</td>\n",
       "      <td>26.885</td>\n",
       "      <td>0</td>\n",
       "      <td>1</td>\n",
       "      <td>1</td>\n",
       "    </tr>\n",
       "    <tr>\n",
       "      <th>1293</th>\n",
       "      <td>46</td>\n",
       "      <td>1</td>\n",
       "      <td>25.745</td>\n",
       "      <td>3</td>\n",
       "      <td>0</td>\n",
       "      <td>1</td>\n",
       "    </tr>\n",
       "    <tr>\n",
       "      <th>259</th>\n",
       "      <td>19</td>\n",
       "      <td>1</td>\n",
       "      <td>31.920</td>\n",
       "      <td>0</td>\n",
       "      <td>1</td>\n",
       "      <td>1</td>\n",
       "    </tr>\n",
       "  </tbody>\n",
       "</table>\n",
       "</div>"
      ],
      "text/plain": [
       "      age  sex     bmi  children  smoker  region\n",
       "764    45    0  25.175         2       0       0\n",
       "887    36    0  30.020         0       0       1\n",
       "890    64    0  26.885         0       1       1\n",
       "1293   46    1  25.745         3       0       1\n",
       "259    19    1  31.920         0       1       1"
      ]
     },
     "execution_count": 57,
     "metadata": {},
     "output_type": "execute_result"
    }
   ],
   "source": [
    "xtest.head()"
   ]
  },
  {
   "cell_type": "code",
   "execution_count": 58,
   "id": "2c4b0504",
   "metadata": {},
   "outputs": [
    {
     "data": {
      "text/plain": [
       "764      9095.06825\n",
       "887      5272.17580\n",
       "890     29330.98315\n",
       "1293     9301.89355\n",
       "259     33750.29180\n",
       "Name: charges, dtype: float64"
      ]
     },
     "execution_count": 58,
     "metadata": {},
     "output_type": "execute_result"
    }
   ],
   "source": [
    "ytest.head()"
   ]
  },
  {
   "cell_type": "markdown",
   "id": "e872f4b7",
   "metadata": {},
   "source": [
    "# Data Visualization"
   ]
  },
  {
   "cell_type": "code",
   "execution_count": 59,
   "id": "fb4c0c4b",
   "metadata": {},
   "outputs": [
    {
     "data": {
      "text/plain": [
       "<seaborn.axisgrid.FacetGrid at 0x21b26601e10>"
      ]
     },
     "execution_count": 59,
     "metadata": {},
     "output_type": "execute_result"
    },
    {
     "data": {
      "text/plain": [
       "<Figure size 2800x1800 with 0 Axes>"
      ]
     },
     "metadata": {},
     "output_type": "display_data"
    },
    {
     "data": {
      "image/png": "[encoded data removed]",
      "text/plain": [
       "<Figure size 500x500 with 1 Axes>"
      ]
     },
     "metadata": {},
     "output_type": "display_data"
    }
   ],
   "source": [
    "sns.set_style('whitegrid')\n",
    "plt.figure(figsize=(28, 18))\n",
    "sns.displot(df[\"charges\"], color='#887BB0', palette=[\"#887BB0\"])"
   ]
  },
  {
   "cell_type": "code",
   "execution_count": 60,
   "id": "0fc26f30",
   "metadata": {},
   "outputs": [
    {
     "data": {
      "text/plain": [
       "<Axes: >"
      ]
     },
     "execution_count": 60,
     "metadata": {},
     "output_type": "execute_result"
    },
    {
     "data": {
      "image/png": "[encoded data removed]",
      "text/plain": [
       "<Figure size 2000x2000 with 2 Axes>"
      ]
     },
     "metadata": {},
     "output_type": "display_data"
    }
   ],
   "source": [
    "plt.figure(figsize=(20,20))\n",
    "sns.heatmap(df.corr(),annot=True)"
   ]
  },
  {
   "cell_type": "markdown",
   "id": "2debda94",
   "metadata": {},
   "source": [
    "# Multivariable Linear Regression for Label Encoding"
   ]
  },
  {
   "cell_type": "code",
   "execution_count": 61,
   "id": "ff479b2b",
   "metadata": {},
   "outputs": [],
   "source": [
    "from sklearn.linear_model import LinearRegression\n",
    "reg = LinearRegression()"
   ]
  },
  {
   "cell_type": "code",
   "execution_count": 62,
   "id": "dcc2dad0",
   "metadata": {},
   "outputs": [
    {
     "data": {
      "text/html": [
       "<style>#sk-container-id-3 {color: black;background-color: white;}#sk-container-id-3 pre{padding: 0;}#sk-container-id-3 div.sk-toggleable {background-color: white;}#sk-container-id-3 label.sk-toggleable__label {cursor: pointer;display: block;width: 100%;margin-bottom: 0;padding: 0.3em;box-sizing: border-box;text-align: center;}#sk-container-id-3 label.sk-toggleable__label-arrow:before {content: \"▸\";float: left;margin-right: 0.25em;color: #696969;}#sk-container-id-3 label.sk-toggleable__label-arrow:hover:before {color: black;}#sk-container-id-3 div.sk-estimator:hover label.sk-toggleable__label-arrow:before {color: black;}#sk-container-id-3 div.sk-toggleable__content {max-height: 0;max-width: 0;overflow: hidden;text-align: left;background-color: #f0f8ff;}#sk-container-id-3 div.sk-toggleable__content pre {margin: 0.2em;color: black;border-radius: 0.25em;background-color: #f0f8ff;}#sk-container-id-3 input.sk-toggleable__control:checked~div.sk-toggleable__content {max-height: 200px;max-width: 100%;overflow: auto;}#sk-container-id-3 input.sk-toggleable__control:checked~label.sk-toggleable__label-arrow:before {content: \"▾\";}#sk-container-id-3 div.sk-estimator input.sk-toggleable__control:checked~label.sk-toggleable__label {background-color: #d4ebff;}#sk-container-id-3 div.sk-label input.sk-toggleable__control:checked~label.sk-toggleable__label {background-color: #d4ebff;}#sk-container-id-3 input.sk-hidden--visually {border: 0;clip: rect(1px 1px 1px 1px);clip: rect(1px, 1px, 1px, 1px);height: 1px;margin: -1px;overflow: hidden;padding: 0;position: absolute;width: 1px;}#sk-container-id-3 div.sk-estimator {font-family: monospace;background-color: #f0f8ff;border: 1px dotted black;border-radius: 0.25em;box-sizing: border-box;margin-bottom: 0.5em;}#sk-container-id-3 div.sk-estimator:hover {background-color: #d4ebff;}#sk-container-id-3 div.sk-parallel-item::after {content: \"\";width: 100%;border-bottom: 1px solid gray;flex-grow: 1;}#sk-container-id-3 div.sk-label:hover label.sk-toggleable__label {background-color: #d4ebff;}#sk-container-id-3 div.sk-serial::before {content: \"\";position: absolute;border-left: 1px solid gray;box-sizing: border-box;top: 0;bottom: 0;left: 50%;z-index: 0;}#sk-container-id-3 div.sk-serial {display: flex;flex-direction: column;align-items: center;background-color: white;padding-right: 0.2em;padding-left: 0.2em;position: relative;}#sk-container-id-3 div.sk-item {position: relative;z-index: 1;}#sk-container-id-3 div.sk-parallel {display: flex;align-items: stretch;justify-content: center;background-color: white;position: relative;}#sk-container-id-3 div.sk-item::before, #sk-container-id-3 div.sk-parallel-item::before {content: \"\";position: absolute;border-left: 1px solid gray;box-sizing: border-box;top: 0;bottom: 0;left: 50%;z-index: -1;}#sk-container-id-3 div.sk-parallel-item {display: flex;flex-direction: column;z-index: 1;position: relative;background-color: white;}#sk-container-id-3 div.sk-parallel-item:first-child::after {align-self: flex-end;width: 50%;}#sk-container-id-3 div.sk-parallel-item:last-child::after {align-self: flex-start;width: 50%;}#sk-container-id-3 div.sk-parallel-item:only-child::after {width: 0;}#sk-container-id-3 div.sk-dashed-wrapped {border: 1px dashed gray;margin: 0 0.4em 0.5em 0.4em;box-sizing: border-box;padding-bottom: 0.4em;background-color: white;}#sk-container-id-3 div.sk-label label {font-family: monospace;font-weight: bold;display: inline-block;line-height: 1.2em;}#sk-container-id-3 div.sk-label-container {text-align: center;}#sk-container-id-3 div.sk-container {/* jupyter's `normalize.less` sets `[hidden] { display: none; }` but bootstrap.min.css set `[hidden] { display: none !important; }` so we also need the `!important` here to be able to override the default hidden behavior on the sphinx rendered scikit-learn.org. See: https://github.com/scikit-learn/scikit-learn/issues/21755 */display: inline-block !important;position: relative;}#sk-container-id-3 div.sk-text-repr-fallback {display: none;}</style><div id=\"sk-container-id-3\" class=\"sk-top-container\"><div class=\"sk-text-repr-fallback\"><pre>LinearRegression()</pre><b>In a Jupyter environment, please rerun this cell to show the HTML representation or trust the notebook. <br />On GitHub, the HTML representation is unable to render, please try loading this page with nbviewer.org.</b></div><div class=\"sk-container\" hidden><div class=\"sk-item\"><div class=\"sk-estimator sk-toggleable\"><input class=\"sk-toggleable__control sk-hidden--visually\" id=\"sk-estimator-id-3\" type=\"checkbox\" checked><label for=\"sk-estimator-id-3\" class=\"sk-toggleable__label sk-toggleable__label-arrow\">LinearRegression</label><div class=\"sk-toggleable__content\"><pre>LinearRegression()</pre></div></div></div></div></div>"
      ],
      "text/plain": [
       "LinearRegression()"
      ]
     },
     "execution_count": 62,
     "metadata": {},
     "output_type": "execute_result"
    }
   ],
   "source": [
    "reg.fit(xtrain,ytrain)"
   ]
  },
  {
   "cell_type": "code",
   "execution_count": 63,
   "id": "241b8fdb",
   "metadata": {},
   "outputs": [
    {
     "data": {
      "text/plain": [
       "array([ 8.93142116e+03,  7.07090670e+03,  3.69370805e+04,  9.59699214e+03,\n",
       "        2.70083549e+04,  1.08664849e+04,  3.74610217e+01,  1.72228092e+04,\n",
       "        9.18308115e+02,  1.13965537e+04,  2.79154456e+04,  9.53381323e+03,\n",
       "        5.18928014e+03,  3.86124990e+04,  4.05094490e+04,  3.72748566e+04,\n",
       "        1.53562559e+04,  3.59449407e+04,  9.10631783e+03,  3.14429410e+04,\n",
       "        3.66298253e+03,  1.00966745e+04,  2.21091896e+03,  7.10598084e+03,\n",
       "        1.13521417e+04,  1.30231210e+04,  1.44472857e+04,  6.12031303e+03,\n",
       "        9.94564893e+03,  2.18617424e+03,  8.91389260e+03,  1.31869496e+04,\n",
       "        4.49110116e+03,  3.30469662e+03,  4.32885102e+03,  1.32330189e+04,\n",
       "        1.67071398e+03,  8.63238607e+03,  3.32727214e+04,  3.26840062e+04,\n",
       "        3.60294190e+03,  4.40040903e+03,  1.40663345e+04,  1.16268203e+04,\n",
       "        8.89219642e+03,  1.21011367e+04,  5.23906853e+03,  2.84241293e+03,\n",
       "        3.56294259e+04,  9.27854339e+03,  1.59720792e+04,  2.34524488e+03,\n",
       "        1.24695907e+04,  1.45575199e+03,  1.36060478e+04,  1.27386152e+04,\n",
       "        4.36613796e+03,  3.22719994e+04,  1.32349447e+04,  1.29578859e+04,\n",
       "        1.40951649e+04,  1.05369676e+04,  1.64362140e+04,  7.75461795e+03,\n",
       "        1.18779662e+04,  3.99480572e+03,  2.64330928e+04,  1.10659605e+04,\n",
       "        2.03158533e+03,  6.13115399e+03,  1.08767882e+04,  1.16479288e+04,\n",
       "        1.10243957e+04,  9.28705268e+03,  1.21416074e+04,  6.70998959e+03,\n",
       "        7.30925330e+03,  1.07977596e+04,  6.52692249e+03,  8.55728949e+03,\n",
       "        3.80852363e+03,  3.67844754e+04,  6.14441916e+03,  3.07570013e+04,\n",
       "        3.50094357e+04,  3.54124821e+04,  7.09149212e+03,  1.31006630e+04,\n",
       "        9.98014918e+03,  1.45154809e+04,  1.78305771e+04,  3.52686158e+04,\n",
       "        3.29784225e+04,  6.22933443e+03,  3.20886288e+04,  9.43560516e+03,\n",
       "        2.94772073e+04,  3.58517664e+03,  2.82020377e+04,  5.72599261e+03,\n",
       "        5.36908283e+03,  1.58445451e+03,  1.16903588e+04,  1.51280855e+04,\n",
       "        1.18546309e+04,  4.35394125e+03,  1.00266822e+04,  3.17802817e+04,\n",
       "       -1.48104195e+02,  3.27772034e+04,  3.14119000e+03,  1.03506397e+04,\n",
       "        1.43957986e+04,  3.15739258e+04,  1.14847275e+04,  3.79273137e+03,\n",
       "        1.32950567e+04,  3.15750153e+04,  8.12355507e+03,  3.28730085e+03,\n",
       "        8.41136792e+03,  1.07776201e+04,  1.53125155e+04,  5.72672481e+03,\n",
       "        3.69907719e+03,  1.02751918e+04,  1.09365360e+04,  1.12670571e+04,\n",
       "        1.45465772e+04,  7.54959534e+03,  5.32238745e+03,  9.34711885e+03,\n",
       "        9.34370053e+03,  1.25996636e+04,  8.16069315e+03,  1.54087671e+04,\n",
       "        8.52238619e+03,  3.17112944e+04,  3.58615001e+04,  3.15416516e+04,\n",
       "        5.99075866e+03,  1.26637568e+04,  6.09837646e+03,  1.46914670e+04,\n",
       "        2.50155681e+03,  3.28754173e+04,  6.36065967e+03,  4.79287176e+03,\n",
       "        1.44614304e+04,  6.85575464e+03,  3.87691431e+04,  3.01513756e+03,\n",
       "        5.97616737e+03,  3.17494933e+04,  1.16517535e+04,  8.58762133e+03,\n",
       "        1.50293832e+04,  9.82274269e+03,  2.69822534e+04,  3.35479130e+04,\n",
       "        1.46237783e+04,  1.57471099e+03,  1.31790001e+04,  2.20744054e+03,\n",
       "        5.32298532e+03,  1.17395267e+04,  3.97487819e+04,  3.65786298e+04,\n",
       "        3.41034394e+04,  3.63657142e+03,  7.23905466e+03,  8.48169987e+03,\n",
       "        1.26452175e+04,  4.88932998e+03,  1.74915089e+03,  3.21887949e+04,\n",
       "        2.49014504e+04,  1.77835495e+04,  2.62715499e+04,  1.02083595e+04,\n",
       "        3.72965033e+04, -6.52360342e+02,  6.88231317e+03,  7.58702522e+03,\n",
       "        4.36293824e+03,  5.07700999e+03,  5.96907983e+03,  4.04888331e+03,\n",
       "        1.53182327e+04,  1.13331480e+04,  6.83898258e+03,  2.39352108e+03,\n",
       "        1.37792303e+03,  3.18527846e+04,  1.66917992e+04,  1.20745723e+04,\n",
       "        1.14919812e+03,  1.25625910e+04,  1.41156831e+03,  8.55785296e+03,\n",
       "        1.77064557e+03,  3.40708782e+04,  1.10256141e+04,  2.63243650e+03,\n",
       "        2.55079532e+04,  2.61948641e+04,  9.59950672e+03,  1.66993572e+03,\n",
       "        1.34838387e+04,  7.87765692e+02,  1.03599201e+04,  1.05819030e+04,\n",
       "        1.70814008e+04,  2.68387842e+04,  7.00938297e+03,  5.10751649e+03,\n",
       "        5.78098372e+03,  1.32803923e+04,  1.11319095e+04,  8.35083139e+03,\n",
       "        5.11042689e+03,  1.25467353e+04,  1.40772626e+04,  3.59251544e+04,\n",
       "        4.23789294e+03,  2.89538327e+04, -1.27526758e+03,  2.92930773e+03,\n",
       "        1.12062922e+04,  1.57880970e+04,  5.28294712e+03,  6.87109043e+03,\n",
       "        3.56790897e+03,  3.12149215e+04,  7.23091139e+03,  1.26084664e+04,\n",
       "        5.70762316e+03,  9.50312570e+03,  3.63497801e+04,  4.48337473e+03,\n",
       "        9.65037954e+03,  3.10538973e+04,  5.73141678e+03,  4.51810286e+03,\n",
       "        1.06359747e+03,  4.92434635e+03,  4.30546329e+03,  6.41542240e+03,\n",
       "        1.88165410e+04, -1.58767500e+03,  2.08726159e+03,  1.06664386e+04,\n",
       "        2.87099675e+03,  1.02075046e+04,  3.66954356e+03,  5.05237573e+03,\n",
       "        1.24207550e+04,  6.33066928e+03,  8.32234154e+03,  7.52601017e+03,\n",
       "        8.93227534e+03,  1.05347636e+04,  2.78205086e+04,  3.92856297e+04,\n",
       "        1.18447191e+04,  7.76727113e+03,  4.10661436e+04,  1.22069344e+04,\n",
       "        7.06633749e+03,  8.31134638e+03,  9.15260379e+03,  1.11327147e+04,\n",
       "        1.01074213e+04,  1.78630232e+04,  7.84425363e+02,  2.35054301e+04,\n",
       "        1.28402370e+04,  3.32540123e+04,  5.21396476e+03,  1.33702622e+04,\n",
       "        1.04393089e+04,  1.79306010e+04,  9.81175719e+03,  1.15961440e+04,\n",
       "        3.21617330e+04,  3.31986358e+03,  1.37496402e+04,  3.95683833e+04,\n",
       "        5.54333858e+03,  6.23384509e+03,  3.34274209e+03,  1.13602421e+04,\n",
       "        2.53553476e+04,  1.42751792e+04,  9.36322233e+03,  1.01541781e+04,\n",
       "        1.36846064e+04,  7.04846551e+02,  2.40293110e+03,  3.08256247e+04,\n",
       "        2.98939248e+04,  1.37971445e+04,  3.66840086e+03,  2.54033560e+04,\n",
       "        1.36099681e+04,  3.08035817e+04,  3.40774884e+03,  3.91303562e+04,\n",
       "        1.13520181e+04,  4.88112196e+03,  6.63012225e+03,  2.57264447e+03,\n",
       "        2.58941048e+04,  1.43159019e+04,  3.67727374e+02,  1.26690993e+04,\n",
       "        1.28517230e+04,  1.50524315e+04,  3.51550959e+04,  1.44614312e+04,\n",
       "        3.16849510e+04,  9.88814606e+03,  1.82342812e+04,  5.85771654e+03,\n",
       "        8.99261803e+03,  9.27620101e+03,  1.54708619e+04,  8.98736496e+03,\n",
       "        8.41456605e+03,  1.50608819e+04,  1.28253602e+04,  1.49321014e+04,\n",
       "        7.38658206e+03,  2.61065024e+04,  9.37846298e+03,  1.84801777e+03,\n",
       "        4.29082654e+03,  1.42115781e+04,  3.58650882e+04,  9.49708847e+03,\n",
       "        1.28255300e+04,  5.29979460e+03,  4.97447308e+03,  3.81342220e+03,\n",
       "        2.72083867e+03,  9.03161410e+03,  7.19875937e+03,  2.49342629e+03,\n",
       "        1.30461468e+04,  8.90160139e+03,  5.81259221e+03,  5.38198278e+02,\n",
       "        9.31275778e+03,  4.97277878e+03,  3.31106597e+04,  2.85736717e+04,\n",
       "        3.70597724e+04,  5.48953746e+03,  8.72326591e+03,  8.39711736e+03,\n",
       "        3.36207746e+03,  3.16373339e+04,  7.14468257e+03,  2.84245186e+04,\n",
       "        3.62304876e+04,  7.13435976e+03,  1.28623795e+04,  9.91674109e+03,\n",
       "        8.34333364e+03,  1.27928552e+04,  3.01641764e+04,  1.71595116e+04,\n",
       "        1.20106593e+04,  4.00580087e+03, -1.43018949e+03,  1.22043703e+04,\n",
       "        3.07650613e+04,  1.31623933e+04,  1.12000279e+04,  7.95694801e+03,\n",
       "        3.61330671e+03,  7.02240292e+03,  7.06987605e+03,  1.05760938e+04,\n",
       "        3.37742354e+04,  3.90910529e+04,  1.18223109e+04,  8.34561825e+03,\n",
       "        1.66015909e+04,  1.57702432e+04,  9.51209017e+03,  9.18903542e+03,\n",
       "        8.93273210e+03,  2.58258875e+03,  1.00252352e+04,  3.92756091e+03,\n",
       "        1.05130405e+04,  1.61335516e+04,  6.74383693e+03,  2.06620349e+03,\n",
       "        1.46977981e+04,  2.73823510e+00])"
      ]
     },
     "execution_count": 63,
     "metadata": {},
     "output_type": "execute_result"
    }
   ],
   "source": [
    "pred = reg.predict(xtest)\n",
    "pred"
   ]
  },
  {
   "cell_type": "code",
   "execution_count": 64,
   "id": "6e21ad35",
   "metadata": {},
   "outputs": [
    {
     "data": {
      "text/html": [
       "<div>\n",
       "<style scoped>\n",
       "    .dataframe tbody tr th:only-of-type {\n",
       "        vertical-align: middle;\n",
       "    }\n",
       "\n",
       "    .dataframe tbody tr th {\n",
       "        vertical-align: top;\n",
       "    }\n",
       "\n",
       "    .dataframe thead th {\n",
       "        text-align: right;\n",
       "    }\n",
       "</style>\n",
       "<table border=\"1\" class=\"dataframe\">\n",
       "  <thead>\n",
       "    <tr style=\"text-align: right;\">\n",
       "      <th></th>\n",
       "      <th>Actual</th>\n",
       "      <th>Prediction</th>\n",
       "      <th>Difference</th>\n",
       "    </tr>\n",
       "  </thead>\n",
       "  <tbody>\n",
       "    <tr>\n",
       "      <th>764</th>\n",
       "      <td>9095.06825</td>\n",
       "      <td>8931.421164</td>\n",
       "      <td>163.647086</td>\n",
       "    </tr>\n",
       "    <tr>\n",
       "      <th>887</th>\n",
       "      <td>5272.17580</td>\n",
       "      <td>7070.906703</td>\n",
       "      <td>1798.730903</td>\n",
       "    </tr>\n",
       "    <tr>\n",
       "      <th>890</th>\n",
       "      <td>29330.98315</td>\n",
       "      <td>36937.080496</td>\n",
       "      <td>7606.097346</td>\n",
       "    </tr>\n",
       "    <tr>\n",
       "      <th>1293</th>\n",
       "      <td>9301.89355</td>\n",
       "      <td>9596.992144</td>\n",
       "      <td>295.098594</td>\n",
       "    </tr>\n",
       "    <tr>\n",
       "      <th>259</th>\n",
       "      <td>33750.29180</td>\n",
       "      <td>27008.354871</td>\n",
       "      <td>6741.936929</td>\n",
       "    </tr>\n",
       "  </tbody>\n",
       "</table>\n",
       "</div>"
      ],
      "text/plain": [
       "           Actual    Prediction   Difference\n",
       "764    9095.06825   8931.421164   163.647086\n",
       "887    5272.17580   7070.906703  1798.730903\n",
       "890   29330.98315  36937.080496  7606.097346\n",
       "1293   9301.89355   9596.992144   295.098594\n",
       "259   33750.29180  27008.354871  6741.936929"
      ]
     },
     "execution_count": 64,
     "metadata": {},
     "output_type": "execute_result"
    }
   ],
   "source": [
    "df_pred = pd.DataFrame({'Actual': ytest, 'Prediction': pred, 'Difference': abs(ytest - pred)})\n",
    "df_pred.head()"
   ]
  },
  {
   "cell_type": "code",
   "execution_count": 65,
   "id": "9f5b4274",
   "metadata": {},
   "outputs": [
    {
     "data": {
      "text/plain": [
       "array([  261.62568984,   109.64719595,   344.54483066,   424.37016596,\n",
       "       23620.80252148,  -326.46262527])"
      ]
     },
     "execution_count": 65,
     "metadata": {},
     "output_type": "execute_result"
    }
   ],
   "source": [
    "m = reg.coef_\n",
    "m"
   ]
  },
  {
   "cell_type": "code",
   "execution_count": 66,
   "id": "0d11caa8",
   "metadata": {},
   "outputs": [
    {
     "data": {
      "text/plain": [
       "-12364.391322279236"
      ]
     },
     "execution_count": 66,
     "metadata": {},
     "output_type": "execute_result"
    }
   ],
   "source": [
    "c = reg.intercept_\n",
    "c"
   ]
  },
  {
   "cell_type": "code",
   "execution_count": 67,
   "id": "56ba5d4d",
   "metadata": {},
   "outputs": [
    {
     "data": {
      "text/plain": [
       "0.7694415927057693"
      ]
     },
     "execution_count": 67,
     "metadata": {},
     "output_type": "execute_result"
    }
   ],
   "source": [
    "reg.score(xtest,ytest)"
   ]
  },
  {
   "cell_type": "markdown",
   "id": "82de1a74",
   "metadata": {},
   "source": [
    "Accuracy, Mse, Mae for Multivariable Linear Regression"
   ]
  },
  {
   "cell_type": "code",
   "execution_count": 68,
   "id": "05c7f172",
   "metadata": {},
   "outputs": [
    {
     "name": "stdout",
     "output_type": "stream",
     "text": [
      "MLR Accuracy: 0.7694415927057693\n"
     ]
    }
   ],
   "source": [
    "MLR_accuracy = reg.score(xtest,ytest)\n",
    "print(\"MLR Accuracy:\", MLR_accuracy)"
   ]
  },
  {
   "cell_type": "code",
   "execution_count": 69,
   "id": "6f5b2678",
   "metadata": {},
   "outputs": [
    {
     "name": "stdout",
     "output_type": "stream",
     "text": [
      "MLR MAE: 4155.239843059379\n"
     ]
    }
   ],
   "source": [
    "MLR_mae = mean_absolute_error(ytest,pred)\n",
    "print(\"MLR MAE:\", MLR_mae)"
   ]
  },
  {
   "cell_type": "code",
   "execution_count": 70,
   "id": "ec08b7b7",
   "metadata": {},
   "outputs": [
    {
     "name": "stdout",
     "output_type": "stream",
     "text": [
      "MLR MSE: 33805466.89868861\n"
     ]
    }
   ],
   "source": [
    "MLR_mse = mean_squared_error(ytest,pred)\n",
    "print(\"MLR MSE:\", MLR_mse)"
   ]
  },
  {
   "cell_type": "markdown",
   "id": "4cd8b8f5",
   "metadata": {},
   "source": [
    "Bar-Plot"
   ]
  },
  {
   "cell_type": "code",
   "execution_count": 71,
   "id": "80af9141",
   "metadata": {},
   "outputs": [],
   "source": [
    "metrics = pd.DataFrame({'Metric': ['MLR Accuracy', 'MLR MSE', 'MLR MAE'],\n",
    "                       'Value': [MLR_accuracy, MLR_mse, MLR_mae]})\n",
    "\n",
    "df_after_pred = pd.DataFrame(data=metrics)"
   ]
  },
  {
   "cell_type": "code",
   "execution_count": 72,
   "id": "056e7ea1",
   "metadata": {},
   "outputs": [
    {
     "data": {
      "text/html": [
       "<div>\n",
       "<style scoped>\n",
       "    .dataframe tbody tr th:only-of-type {\n",
       "        vertical-align: middle;\n",
       "    }\n",
       "\n",
       "    .dataframe tbody tr th {\n",
       "        vertical-align: top;\n",
       "    }\n",
       "\n",
       "    .dataframe thead th {\n",
       "        text-align: right;\n",
       "    }\n",
       "</style>\n",
       "<table border=\"1\" class=\"dataframe\">\n",
       "  <thead>\n",
       "    <tr style=\"text-align: right;\">\n",
       "      <th></th>\n",
       "      <th>Metric</th>\n",
       "      <th>Value</th>\n",
       "    </tr>\n",
       "  </thead>\n",
       "  <tbody>\n",
       "    <tr>\n",
       "      <th>0</th>\n",
       "      <td>MLR Accuracy</td>\n",
       "      <td>7.694416e-01</td>\n",
       "    </tr>\n",
       "    <tr>\n",
       "      <th>1</th>\n",
       "      <td>MLR MSE</td>\n",
       "      <td>3.380547e+07</td>\n",
       "    </tr>\n",
       "    <tr>\n",
       "      <th>2</th>\n",
       "      <td>MLR MAE</td>\n",
       "      <td>4.155240e+03</td>\n",
       "    </tr>\n",
       "  </tbody>\n",
       "</table>\n",
       "</div>"
      ],
      "text/plain": [
       "         Metric         Value\n",
       "0  MLR Accuracy  7.694416e-01\n",
       "1       MLR MSE  3.380547e+07\n",
       "2       MLR MAE  4.155240e+03"
      ]
     },
     "execution_count": 72,
     "metadata": {},
     "output_type": "execute_result"
    }
   ],
   "source": [
    "df_after_pred.head()"
   ]
  },
  {
   "cell_type": "code",
   "execution_count": 73,
   "id": "a0d15209",
   "metadata": {},
   "outputs": [
    {
     "data": {
      "image/png": "[encoded data removed]",
      "text/plain": [
       "<Figure size 640x480 with 1 Axes>"
      ]
     },
     "metadata": {},
     "output_type": "display_data"
    }
   ],
   "source": [
    "sns.set_style(\"white\", {'axes.facecolor': '#F8F6F4'})\n",
    "sns.set_palette(['#FFAEBC', '#A0E7E5', '#B4F8C8'])\n",
    "\n",
    "fig = plt.gcf()\n",
    "fig.set_facecolor('#F8F6F4')\n",
    "\n",
    "ax = sns.barplot(x='Value', y='Metric', data=df_after_pred)\n",
    "\n",
    "plt.title(\"Multivariable Linear Regression Regression Bar-PLot\", color=\"#99627A\", fontsize=10)\n",
    "ax.set_xlabel('Value', color='#99627A', fontsize=10)\n",
    "ax.set_ylabel('Metric', color='#99627A', fontsize=10)\n",
    "\n",
    "plt.show()"
   ]
  },
  {
   "cell_type": "markdown",
   "id": "4855f212",
   "metadata": {},
   "source": [
    "# KNN Regression for Label Encoding"
   ]
  },
  {
   "cell_type": "code",
   "execution_count": 74,
   "id": "765e7f72",
   "metadata": {},
   "outputs": [],
   "source": [
    "from sklearn.neighbors import KNeighborsRegressor\n",
    "knn = KNeighborsRegressor()"
   ]
  },
  {
   "cell_type": "code",
   "execution_count": 75,
   "id": "4f1b32d3",
   "metadata": {},
   "outputs": [
    {
     "data": {
      "text/html": [
       "<style>#sk-container-id-4 {color: black;background-color: white;}#sk-container-id-4 pre{padding: 0;}#sk-container-id-4 div.sk-toggleable {background-color: white;}#sk-container-id-4 label.sk-toggleable__label {cursor: pointer;display: block;width: 100%;margin-bottom: 0;padding: 0.3em;box-sizing: border-box;text-align: center;}#sk-container-id-4 label.sk-toggleable__label-arrow:before {content: \"▸\";float: left;margin-right: 0.25em;color: #696969;}#sk-container-id-4 label.sk-toggleable__label-arrow:hover:before {color: black;}#sk-container-id-4 div.sk-estimator:hover label.sk-toggleable__label-arrow:before {color: black;}#sk-container-id-4 div.sk-toggleable__content {max-height: 0;max-width: 0;overflow: hidden;text-align: left;background-color: #f0f8ff;}#sk-container-id-4 div.sk-toggleable__content pre {margin: 0.2em;color: black;border-radius: 0.25em;background-color: #f0f8ff;}#sk-container-id-4 input.sk-toggleable__control:checked~div.sk-toggleable__content {max-height: 200px;max-width: 100%;overflow: auto;}#sk-container-id-4 input.sk-toggleable__control:checked~label.sk-toggleable__label-arrow:before {content: \"▾\";}#sk-container-id-4 div.sk-estimator input.sk-toggleable__control:checked~label.sk-toggleable__label {background-color: #d4ebff;}#sk-container-id-4 div.sk-label input.sk-toggleable__control:checked~label.sk-toggleable__label {background-color: #d4ebff;}#sk-container-id-4 input.sk-hidden--visually {border: 0;clip: rect(1px 1px 1px 1px);clip: rect(1px, 1px, 1px, 1px);height: 1px;margin: -1px;overflow: hidden;padding: 0;position: absolute;width: 1px;}#sk-container-id-4 div.sk-estimator {font-family: monospace;background-color: #f0f8ff;border: 1px dotted black;border-radius: 0.25em;box-sizing: border-box;margin-bottom: 0.5em;}#sk-container-id-4 div.sk-estimator:hover {background-color: #d4ebff;}#sk-container-id-4 div.sk-parallel-item::after {content: \"\";width: 100%;border-bottom: 1px solid gray;flex-grow: 1;}#sk-container-id-4 div.sk-label:hover label.sk-toggleable__label {background-color: #d4ebff;}#sk-container-id-4 div.sk-serial::before {content: \"\";position: absolute;border-left: 1px solid gray;box-sizing: border-box;top: 0;bottom: 0;left: 50%;z-index: 0;}#sk-container-id-4 div.sk-serial {display: flex;flex-direction: column;align-items: center;background-color: white;padding-right: 0.2em;padding-left: 0.2em;position: relative;}#sk-container-id-4 div.sk-item {position: relative;z-index: 1;}#sk-container-id-4 div.sk-parallel {display: flex;align-items: stretch;justify-content: center;background-color: white;position: relative;}#sk-container-id-4 div.sk-item::before, #sk-container-id-4 div.sk-parallel-item::before {content: \"\";position: absolute;border-left: 1px solid gray;box-sizing: border-box;top: 0;bottom: 0;left: 50%;z-index: -1;}#sk-container-id-4 div.sk-parallel-item {display: flex;flex-direction: column;z-index: 1;position: relative;background-color: white;}#sk-container-id-4 div.sk-parallel-item:first-child::after {align-self: flex-end;width: 50%;}#sk-container-id-4 div.sk-parallel-item:last-child::after {align-self: flex-start;width: 50%;}#sk-container-id-4 div.sk-parallel-item:only-child::after {width: 0;}#sk-container-id-4 div.sk-dashed-wrapped {border: 1px dashed gray;margin: 0 0.4em 0.5em 0.4em;box-sizing: border-box;padding-bottom: 0.4em;background-color: white;}#sk-container-id-4 div.sk-label label {font-family: monospace;font-weight: bold;display: inline-block;line-height: 1.2em;}#sk-container-id-4 div.sk-label-container {text-align: center;}#sk-container-id-4 div.sk-container {/* jupyter's `normalize.less` sets `[hidden] { display: none; }` but bootstrap.min.css set `[hidden] { display: none !important; }` so we also need the `!important` here to be able to override the default hidden behavior on the sphinx rendered scikit-learn.org. See: https://github.com/scikit-learn/scikit-learn/issues/21755 */display: inline-block !important;position: relative;}#sk-container-id-4 div.sk-text-repr-fallback {display: none;}</style><div id=\"sk-container-id-4\" class=\"sk-top-container\"><div class=\"sk-text-repr-fallback\"><pre>KNeighborsRegressor()</pre><b>In a Jupyter environment, please rerun this cell to show the HTML representation or trust the notebook. <br />On GitHub, the HTML representation is unable to render, please try loading this page with nbviewer.org.</b></div><div class=\"sk-container\" hidden><div class=\"sk-item\"><div class=\"sk-estimator sk-toggleable\"><input class=\"sk-toggleable__control sk-hidden--visually\" id=\"sk-estimator-id-4\" type=\"checkbox\" checked><label for=\"sk-estimator-id-4\" class=\"sk-toggleable__label sk-toggleable__label-arrow\">KNeighborsRegressor</label><div class=\"sk-toggleable__content\"><pre>KNeighborsRegressor()</pre></div></div></div></div></div>"
      ],
      "text/plain": [
       "KNeighborsRegressor()"
      ]
     },
     "execution_count": 75,
     "metadata": {},
     "output_type": "execute_result"
    }
   ],
   "source": [
    "knn.fit(xtrain,ytrain)"
   ]
  },
  {
   "cell_type": "code",
   "execution_count": 76,
   "id": "fa4e95fd",
   "metadata": {},
   "outputs": [
    {
     "data": {
      "text/plain": [
       "array([ 8690.43237 , 19000.16927 , 19835.69166 , 15209.38903 ,\n",
       "       15332.645516,  6525.942014,  4275.35308 , 14202.57553 ,\n",
       "        6044.87565 , 15200.550406, 10487.66144 , 13595.2385  ,\n",
       "       12801.05156 , 23857.00397 , 29564.924988, 16020.70195 ,\n",
       "       24143.46537 , 19088.256672, 17847.351064,  9918.63693 ,\n",
       "        9286.04842 , 14472.15013 ,  1627.55524 ,  2544.62533 ,\n",
       "       12413.456106, 17581.24919 , 34112.849818,  8286.929408,\n",
       "       12431.23215 ,  8088.37853 ,  7413.34909 , 11960.6391  ,\n",
       "       13805.84869 ,  9506.14603 ,  9334.3847  , 16802.621192,\n",
       "        4594.8149  , 13751.54542 , 15577.78199 , 21551.112746,\n",
       "        9230.250542, 11480.063572, 19879.198482, 12210.98625 ,\n",
       "        4868.64141 , 12551.43548 , 14276.867414,  9853.244876,\n",
       "        9877.781954, 14340.699784, 13927.53963 ,  4905.02386 ,\n",
       "        5910.06901 ,  4655.35675 , 24524.60521 , 16408.66096 ,\n",
       "        7796.21453 ,  8006.3826  , 26704.391698, 17149.98228 ,\n",
       "       22909.713106, 12698.954634, 32731.46857 , 12971.49515 ,\n",
       "       10093.91326 ,  7617.98325 ,  5744.33089 , 14011.54458 ,\n",
       "        9746.781938, 16703.65906 , 28935.464386,  9130.25815 ,\n",
       "       15088.50706 , 17089.041446, 16304.660872,  8141.9279  ,\n",
       "        7067.226172, 14294.44018 ,  7461.47195 ,  7960.28044 ,\n",
       "        1779.17457 , 22792.01652 ,  4860.10144 , 17188.29641 ,\n",
       "       17825.98554 , 15862.29854 ,  4908.17877 , 17607.37049 ,\n",
       "       12898.898324, 15700.943006, 24400.230212, 20029.886064,\n",
       "       12387.61366 ,  7585.15064 , 14547.005008,  6784.24198 ,\n",
       "        7241.00686 ,  8983.536236,  9878.85698 ,  6203.5492  ,\n",
       "       10252.8821  ,  7859.1848  ,  6125.34827 , 15982.32361 ,\n",
       "       12917.74257 ,  1381.94234 , 14453.50156 , 12483.43364 ,\n",
       "        4189.08877 , 12588.85263 ,  1308.88302 , 18413.2362  ,\n",
       "       12116.62135 , 12861.19451 , 16025.38118 ,  1938.13843 ,\n",
       "       18921.3034  , 13654.158494,  5989.45452 ,  4453.501684,\n",
       "        4930.58348 , 10395.592496, 22998.607306,  9044.64542 ,\n",
       "       10558.10467 , 14170.08103 ,  9832.101494,  9511.03826 ,\n",
       "       20107.361678, 10430.24014 ,  4242.34181 , 12423.81236 ,\n",
       "        5302.04534 , 17156.049456,  9598.039456, 17092.461692,\n",
       "       14504.264458,  6455.7948  , 16904.480486,  9049.35928 ,\n",
       "       11147.49174 , 23344.67917 ,  9998.871   , 22998.607306,\n",
       "        4352.928634, 22571.530268,  7884.71399 , 10372.02946 ,\n",
       "       27718.604054,  8016.74518 , 23328.038616,  8724.5239  ,\n",
       "        8993.99094 ,  5161.14806 , 12463.71808 , 14950.091198,\n",
       "       20143.25479 ,  8614.53475 , 10679.351706, 13503.88704 ,\n",
       "       13065.45348 ,  2075.12255 , 22521.517574,  6544.715018,\n",
       "       23137.78022 ,  7280.30837 , 13624.56744 , 15057.6702  ,\n",
       "       19199.526674,  8923.10779 ,  9584.72064 ,  9802.712416,\n",
       "       13581.21308 ,  4029.30938 ,  4154.44995 , 21025.458784,\n",
       "       10541.0388  , 13732.3701  ,  7591.21985 , 14349.707   ,\n",
       "       20038.83036 ,  8284.528918,  7825.90006 , 11443.98852 ,\n",
       "        9577.2198  ,  4145.683016,  6983.60565 ,  9624.16064 ,\n",
       "       16367.46308 , 14190.38199 , 16802.04888 , 10856.329448,\n",
       "        7362.37716 , 18074.53998 , 13464.4355  ,  9728.12282 ,\n",
       "        2192.18863 , 11028.12066 ,  7646.78034 , 12082.25992 ,\n",
       "        3156.48049 , 13091.482102, 12662.493414, 11620.666492,\n",
       "       13953.43515 ,  7173.45991 , 12621.103912,  8166.46412 ,\n",
       "       16020.70195 ,  7274.371208, 16758.88339 , 11567.66638 ,\n",
       "       23728.35802 ,  5854.4491  ,  6368.10012 ,  4159.91227 ,\n",
       "        4687.80785 , 13158.38501 , 18222.924046,  5174.39914 ,\n",
       "        7089.17212 , 16327.036562, 21212.47587 , 15814.928172,\n",
       "       11296.531052, 15675.30043 ,  1433.24902 , 14464.17875 ,\n",
       "        9732.00782 , 24144.46574 , 14101.19453 ,  9434.84186 ,\n",
       "        7417.20744 , 13386.463454,  9912.07602 , 12504.185932,\n",
       "       12821.023868, 13529.38564 , 15164.088692,  3599.942486,\n",
       "       14809.21203 , 26313.000448,  9648.02953 ,  9626.79459 ,\n",
       "        4757.9109  ,  9575.56137 ,  9543.24848 ,  4594.04246 ,\n",
       "       10261.4624  ,  3921.27345 ,  4787.4624  , 17123.458836,\n",
       "        3159.41706 , 16486.6843  ,  9156.327576, 22378.26734 ,\n",
       "       15954.28329 ,  9879.87415 , 12357.8257  , 10960.96826 ,\n",
       "       11899.907558, 13976.02224 , 12381.30068 , 20619.68024 ,\n",
       "       12014.63949 ,  6563.50816 , 10725.98142 , 16364.23726 ,\n",
       "        8174.70696 , 16771.775724,  9677.27617 , 17083.599636,\n",
       "       14438.19265 , 13732.3701  ,  6732.852784,  4189.6962  ,\n",
       "        6283.68617 , 12109.13949 ,  8838.463172,  9123.023   ,\n",
       "        8904.05045 , 14120.17965 , 13558.06228 , 15822.53623 ,\n",
       "       25718.33868 ,  4858.828104,  9709.49892 , 25195.23233 ,\n",
       "        4322.97166 ,  9635.17561 , 12323.92854 , 11610.47733 ,\n",
       "        8658.2805  , 16867.17039 , 12378.60822 , 13650.033836,\n",
       "       13360.225102,  5442.94323 ,  7524.28793 ,  9682.433   ,\n",
       "       12273.13646 , 21784.92154 ,  2806.88333 ,  7770.99875 ,\n",
       "       16493.83375 , 26230.663428,  8254.98235 , 14139.54993 ,\n",
       "       14477.773864,  1651.48482 ,  5821.0312  ,  1795.37217 ,\n",
       "        7470.409828, 23877.594524,  5954.476106, 14653.666292,\n",
       "       17300.39283 , 22504.045012, 26611.58652 , 12338.93577 ,\n",
       "       17740.688404, 20564.35413 , 14922.53993 ,  4498.74386 ,\n",
       "       17847.351064,  8163.15894 , 24753.288352, 11156.60318 ,\n",
       "       17929.1392  , 10670.48806 , 19148.111184, 11941.65893 ,\n",
       "       11375.28038 , 11234.53805 ,  6484.61464 ,  7099.161098,\n",
       "        7268.2979  ,  9843.6232  , 19149.655442, 11721.64314 ,\n",
       "       19869.20538 ,  6203.4429  , 11151.46403 ,  9029.628434,\n",
       "       12124.82552 , 11322.95143 ,  6095.1057  ,  1879.69643 ,\n",
       "       16832.73194 , 14506.928044,  7708.18172 ,  3874.157096,\n",
       "       14971.4586  , 10429.405566,  5686.71592 ,  8437.4925  ,\n",
       "        9368.78506 ,  9588.55312 , 17647.590334,  6346.40887 ,\n",
       "        1634.03628 , 12964.12804 , 13840.029088, 10702.1678  ,\n",
       "        8074.00532 ,  8474.9665  , 13058.2948  , 16613.595702,\n",
       "       12339.71538 , 16116.18966 , 12323.56412 , 28789.845348,\n",
       "       14317.478064, 13053.12044 ,  5813.764288, 14523.43203 ,\n",
       "        6147.48054 , 18021.25794 , 13471.536334, 10286.19838 ,\n",
       "        9226.14999 , 13014.978874, 12437.471954, 18163.24101 ,\n",
       "       22506.791888, 20737.84167 , 15334.41295 , 10349.66086 ,\n",
       "       12964.58159 , 16285.3887  , 23498.698236,  8591.091098,\n",
       "        6569.48805 ,  6106.11382 , 17146.701992, 10771.005892,\n",
       "       11470.5022  , 17139.15608 ,  7974.2215  ,  9967.556428,\n",
       "       16911.507832,  8053.452426])"
      ]
     },
     "execution_count": 76,
     "metadata": {},
     "output_type": "execute_result"
    }
   ],
   "source": [
    "knn_pred = knn.predict(xtest)\n",
    "knn_pred"
   ]
  },
  {
   "cell_type": "markdown",
   "id": "d4a2ff21",
   "metadata": {},
   "source": [
    "Accuracy, MSE, MAE for KNN Classification"
   ]
  },
  {
   "cell_type": "code",
   "execution_count": 77,
   "id": "14e262cb",
   "metadata": {},
   "outputs": [
    {
     "name": "stdout",
     "output_type": "stream",
     "text": [
      "KNN Accuracy: 0.1267185153831346\n"
     ]
    }
   ],
   "source": [
    "knn_accuracy = r2_score(ytest, knn_pred)\n",
    "print(\"KNN Accuracy:\", knn_accuracy)"
   ]
  },
  {
   "cell_type": "code",
   "execution_count": 78,
   "id": "b787cb4e",
   "metadata": {},
   "outputs": [
    {
     "name": "stdout",
     "output_type": "stream",
     "text": [
      "KNN MSE: 128044293.27870281\n"
     ]
    }
   ],
   "source": [
    "knn_mse = mean_squared_error(ytest, knn_pred)\n",
    "print(\"KNN MSE:\", knn_mse)"
   ]
  },
  {
   "cell_type": "code",
   "execution_count": 79,
   "id": "a40779c3",
   "metadata": {},
   "outputs": [
    {
     "name": "stdout",
     "output_type": "stream",
     "text": [
      "KNN MAE: 7888.692017271144\n"
     ]
    }
   ],
   "source": [
    "knn_mae = mean_absolute_error(ytest, knn_pred)\n",
    "print(\"KNN MAE:\", knn_mae)"
   ]
  },
  {
   "cell_type": "markdown",
   "id": "790f6f56",
   "metadata": {},
   "source": [
    "Bar-Plot"
   ]
  },
  {
   "cell_type": "code",
   "execution_count": 80,
   "id": "3b76cae6",
   "metadata": {},
   "outputs": [],
   "source": [
    "data = {'Variable':['KNN MAE','KNN MSE','KNN Accuracy'],\n",
    "         'Accuracy':[knn_mae,knn_mse,knn_accuracy]}\n",
    "df_after_KNN_pred = pd.DataFrame(data=data)"
   ]
  },
  {
   "cell_type": "code",
   "execution_count": 81,
   "id": "a528e598",
   "metadata": {},
   "outputs": [
    {
     "data": {
      "text/html": [
       "<div>\n",
       "<style scoped>\n",
       "    .dataframe tbody tr th:only-of-type {\n",
       "        vertical-align: middle;\n",
       "    }\n",
       "\n",
       "    .dataframe tbody tr th {\n",
       "        vertical-align: top;\n",
       "    }\n",
       "\n",
       "    .dataframe thead th {\n",
       "        text-align: right;\n",
       "    }\n",
       "</style>\n",
       "<table border=\"1\" class=\"dataframe\">\n",
       "  <thead>\n",
       "    <tr style=\"text-align: right;\">\n",
       "      <th></th>\n",
       "      <th>Variable</th>\n",
       "      <th>Accuracy</th>\n",
       "    </tr>\n",
       "  </thead>\n",
       "  <tbody>\n",
       "    <tr>\n",
       "      <th>0</th>\n",
       "      <td>KNN MAE</td>\n",
       "      <td>7.888692e+03</td>\n",
       "    </tr>\n",
       "    <tr>\n",
       "      <th>1</th>\n",
       "      <td>KNN MSE</td>\n",
       "      <td>1.280443e+08</td>\n",
       "    </tr>\n",
       "    <tr>\n",
       "      <th>2</th>\n",
       "      <td>KNN Accuracy</td>\n",
       "      <td>1.267185e-01</td>\n",
       "    </tr>\n",
       "  </tbody>\n",
       "</table>\n",
       "</div>"
      ],
      "text/plain": [
       "       Variable      Accuracy\n",
       "0       KNN MAE  7.888692e+03\n",
       "1       KNN MSE  1.280443e+08\n",
       "2  KNN Accuracy  1.267185e-01"
      ]
     },
     "execution_count": 81,
     "metadata": {},
     "output_type": "execute_result"
    }
   ],
   "source": [
    "df_after_KNN_pred.head()"
   ]
  },
  {
   "cell_type": "code",
   "execution_count": 82,
   "id": "bcbf14f9",
   "metadata": {},
   "outputs": [
    {
     "data": {
      "image/png": "[encoded data removed]",
      "text/plain": [
       "<Figure size 640x480 with 1 Axes>"
      ]
     },
     "metadata": {},
     "output_type": "display_data"
    }
   ],
   "source": [
    "sns.set_style(\"white\", {'axes.facecolor': '#F8F6F4'})\n",
    "sns.set_palette(['#FFAEBC', '#A0E7E5', '#B4F8C8'])\n",
    "\n",
    "fig = plt.gcf()\n",
    "fig.set_facecolor('#F8F6F4')\n",
    "\n",
    "ax = sns.barplot(x='Accuracy', y='Variable', data=df_after_KNN_pred)\n",
    "\n",
    "plt.title(\"KNN Regression Bar-Plot\", color=\"#99627A\", fontsize=10)\n",
    "ax.set_xlabel('Accuracy', color='#99627A', fontsize=10)\n",
    "ax.set_ylabel('Variable', color='#99627A', fontsize=10)\n",
    "\n",
    "plt.show()"
   ]
  },
  {
   "cell_type": "markdown",
   "id": "f36c8af1",
   "metadata": {},
   "source": [
    "# Compare Label Encoding : Multivariable Linear Regression VS KNN Regression"
   ]
  },
  {
   "cell_type": "code",
   "execution_count": 83,
   "id": "3511954d",
   "metadata": {},
   "outputs": [
    {
     "data": {
      "text/html": [
       "<div>\n",
       "<style scoped>\n",
       "    .dataframe tbody tr th:only-of-type {\n",
       "        vertical-align: middle;\n",
       "    }\n",
       "\n",
       "    .dataframe tbody tr th {\n",
       "        vertical-align: top;\n",
       "    }\n",
       "\n",
       "    .dataframe thead th {\n",
       "        text-align: right;\n",
       "    }\n",
       "</style>\n",
       "<table border=\"1\" class=\"dataframe\">\n",
       "  <thead>\n",
       "    <tr style=\"text-align: right;\">\n",
       "      <th></th>\n",
       "      <th>Variable</th>\n",
       "      <th>Accuracy</th>\n",
       "    </tr>\n",
       "  </thead>\n",
       "  <tbody>\n",
       "    <tr>\n",
       "      <th>0</th>\n",
       "      <td>Multivariable Linear Regression MAE</td>\n",
       "      <td>4.155240e+03</td>\n",
       "    </tr>\n",
       "    <tr>\n",
       "      <th>1</th>\n",
       "      <td>Multivariable Linear Regression MSE</td>\n",
       "      <td>3.380547e+07</td>\n",
       "    </tr>\n",
       "    <tr>\n",
       "      <th>2</th>\n",
       "      <td>Multivariable Linear Regression Accuracy</td>\n",
       "      <td>7.694416e-01</td>\n",
       "    </tr>\n",
       "    <tr>\n",
       "      <th>0</th>\n",
       "      <td>KNN Regression MAE</td>\n",
       "      <td>7.888692e+03</td>\n",
       "    </tr>\n",
       "    <tr>\n",
       "      <th>1</th>\n",
       "      <td>KNN Regression MSE</td>\n",
       "      <td>1.280443e+08</td>\n",
       "    </tr>\n",
       "    <tr>\n",
       "      <th>2</th>\n",
       "      <td>KNN Regression Accuracy</td>\n",
       "      <td>1.267185e-01</td>\n",
       "    </tr>\n",
       "  </tbody>\n",
       "</table>\n",
       "</div>"
      ],
      "text/plain": [
       "                                   Variable      Accuracy\n",
       "0       Multivariable Linear Regression MAE  4.155240e+03\n",
       "1       Multivariable Linear Regression MSE  3.380547e+07\n",
       "2  Multivariable Linear Regression Accuracy  7.694416e-01\n",
       "0                        KNN Regression MAE  7.888692e+03\n",
       "1                        KNN Regression MSE  1.280443e+08\n",
       "2                   KNN Regression Accuracy  1.267185e-01"
      ]
     },
     "execution_count": 83,
     "metadata": {},
     "output_type": "execute_result"
    }
   ],
   "source": [
    "linear_data = {'Variable': ['Multivariable Linear Regression MAE', 'Multivariable Linear Regression MSE', 'Multivariable Linear Regression Accuracy'],\n",
    "                 'Accuracy': [MLR_mae, MLR_mse, MLR_accuracy]}\n",
    "df_after_pred = pd.DataFrame(data=linear_data)\n",
    "\n",
    "knn_data = {'Variable': ['KNN Regression MAE', 'KNN Regression MSE', 'KNN Regression Accuracy'],\n",
    "            'Accuracy': [knn_mae, knn_mse, knn_accuracy]}\n",
    "df_after_KNN_pred = pd.DataFrame(data=knn_data)\n",
    "\n",
    "\n",
    "result_df = pd.concat([df_after_pred, df_after_KNN_pred], axis=0)\n",
    "result_df"
   ]
  },
  {
   "cell_type": "code",
   "execution_count": 84,
   "id": "e5c3bc01",
   "metadata": {},
   "outputs": [
    {
     "data": {
      "image/png": "[encoded data removed]",
      "text/plain": [
       "<Figure size 640x480 with 1 Axes>"
      ]
     },
     "metadata": {},
     "output_type": "display_data"
    }
   ],
   "source": [
    "sns.set_style(\"white\", {'axes.facecolor': '#F8F6F4'})\n",
    "sns.set_palette(['#643A6B', '#FFAEBC', '#A0E7E5', '#B4F8C8', '#AAD6A0', '#FBE7C6', '#FFA384'])\n",
    "\n",
    "fig = plt.gcf()\n",
    "fig.set_facecolor('#F8F6F4')\n",
    "\n",
    "ax = sns.barplot(x='Accuracy', y='Variable', data=result_df)\n",
    "\n",
    "plt.title(\"Testing Bar-Plot\", color=\"#99627A\", fontsize=10)\n",
    "ax.set_xlabel('Accuracy', color='#99627A', fontsize=10)\n",
    "ax.set_ylabel('Variable', color='#99627A', fontsize=10)\n",
    "\n",
    "plt.show()"
   ]
  },
  {
   "cell_type": "code",
   "execution_count": 85,
   "id": "afefbd8e",
   "metadata": {},
   "outputs": [],
   "source": [
    "#The End"
   ]
  }
 ],
 "metadata": {
  "kernelspec": {
   "display_name": "Python 3 (ipykernel)",
   "language": "python",
   "name": "python3"
  },
  "language_info": {
   "codemirror_mode": {
    "name": "ipython",
    "version": 3
   },
   "file_extension": ".py",
   "mimetype": "text/x-python",
   "name": "python",
   "nbconvert_exporter": "python",
   "pygments_lexer": "ipython3",
   "version": "3.11.3"
  }
 },
 "nbformat": 4,
 "nbformat_minor": 5
}
